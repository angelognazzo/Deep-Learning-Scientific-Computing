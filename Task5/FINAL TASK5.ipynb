{
 "cells": [
  {
   "cell_type": "code",
   "execution_count": 1,
   "metadata": {},
   "outputs": [],
   "source": [
    "import torch\n",
    "import torch.nn as nn\n",
    "import torch.optim as optim\n",
    "import torch.utils\n",
    "import torch.utils.data\n",
    "from torch.utils.data import DataLoader\n",
    "import matplotlib.pyplot as plt\n",
    "import numpy as np\n",
    "import itertools\n",
    "import pandas as pd\n",
    "import random"
   ]
  },
  {
   "cell_type": "code",
   "execution_count": 2,
   "metadata": {},
   "outputs": [],
   "source": [
    "torch.manual_seed(42)\n",
    "np.random.seed(42)\n",
    "\n",
    "sampling_seed = 78\n",
    "torch.manual_seed(sampling_seed)\n",
    "\n",
    "training_data = np.loadtxt('TrainingData.txt', delimiter=' ')"
   ]
  },
  {
   "cell_type": "code",
   "execution_count": 3,
   "metadata": {},
   "outputs": [],
   "source": [
    "input_nn = torch.tensor(training_data[:,0:2]).type(torch.float32)\n",
    "output_nn = torch.tensor(training_data[:,2]).type(torch.float32).reshape(-1,1)\n",
    "extr_input = [[torch.mean(input_nn[:,0]), torch.mean(input_nn[:,1])],[torch.std(input_nn[:,0]), torch.std(input_nn[:,1])]]\n",
    "extr_output = [torch.mean(output_nn), torch.std(output_nn)]\n",
    "\n",
    "input_nn[:,0] = (input_nn[:,0] - torch.mean(input_nn[:,0]))/(torch.std(input_nn[:,0]))\n",
    "input_nn[:,1] = (input_nn[:,1] - torch.mean(input_nn[:,1]))/(torch.std(input_nn[:,1]))\n",
    "output_nn = (output_nn - torch.mean(output_nn))/(torch.std(output_nn))\n"
   ]
  },
  {
   "cell_type": "code",
   "execution_count": 4,
   "metadata": {},
   "outputs": [],
   "source": [
    "class NeuralNet(nn.Module):\n",
    "    \n",
    "    def __init__(self,\n",
    "                 input_dimension,\n",
    "                 output_dimension,\n",
    "                 n_hidden_layers,\n",
    "                 neurons,\n",
    "                 regularization_param,\n",
    "                 regularization_exp,\n",
    "                 retrain_seed,\n",
    "                 activation_name):\n",
    "\n",
    "        super(NeuralNet, self).__init__()\n",
    "        # Number of input dimensions n\n",
    "        self.input_dimension = input_dimension\n",
    "        # Number of output dimensions m\n",
    "        self.output_dimension = output_dimension\n",
    "        # Number of neurons per layer\n",
    "        self.neurons = neurons\n",
    "        # Number of hidden layers\n",
    "        self.n_hidden_layers = n_hidden_layers\n",
    "        # Activation function\n",
    "        self.activation_name = activation_name\n",
    "        self.activation = self.get_activation(activation_name)\n",
    "        # Regularization parameter\n",
    "        self.regularization_param = regularization_param\n",
    "        # Regularization exponent\n",
    "        self.regularization_exp = regularization_exp\n",
    "        # Random seed for weight initialization\n",
    "        self.retrain_seed = retrain_seed\n",
    "\n",
    "        if self.n_hidden_layers != 0:\n",
    "            self.input_layer = nn.Linear(self.input_dimension, self.neurons)\n",
    "            self.hidden_layers = nn.ModuleList([nn.Linear(self.neurons, self.neurons) for _ in range(n_hidden_layers - 1)])\n",
    "            self.output_layer = nn.Linear(self.neurons, self.output_dimension)\n",
    "\n",
    "        else:\n",
    "            print(\"Simple linear regression\")\n",
    "            self.linear_regression_layer = nn.Linear(self.input_dimension, self.output_dimension)\n",
    "\n",
    "        self.init_xavier()\n",
    "\n",
    "    def init_xavier(self):\n",
    "        torch.manual_seed(self.retrain_seed)\n",
    "\n",
    "        def init_weights(m):\n",
    "            if type(m) == nn.Linear and m.weight.requires_grad and m.bias.requires_grad:\n",
    "                if self.activation_name in ['tanh', 'relu']:\n",
    "                    gain = nn.init.calculate_gain(self.activation_name)\n",
    "                else:\n",
    "                    gain = 1\n",
    "                torch.nn.init.xavier_uniform_(m.weight, gain=gain)\n",
    "                m.bias.data.fill_(0)\n",
    "\n",
    "        self.apply(init_weights)\n",
    "\n",
    "    def regularization(self):\n",
    "        reg_loss = 0\n",
    "        for name, param in self.named_parameters():\n",
    "            if 'weight' in name:\n",
    "                reg_loss = reg_loss + torch.norm(param, self.regularization_exp)\n",
    "        return reg_loss\n",
    "\n",
    "    def get_activation(self, activation_name):\n",
    "        if activation_name in ['tanh']:\n",
    "            return nn.Tanh()\n",
    "        elif activation_name in ['relu']:\n",
    "            return nn.ReLU(inplace=True)\n",
    "        elif activation_name in ['lrelu']:\n",
    "            return nn.LeakyReLU(inplace=True)\n",
    "        elif activation_name in ['sigmoid']:\n",
    "            return nn.Sigmoid()\n",
    "        elif activation_name in ['softplus']:\n",
    "            return nn.Softplus(beta=4)\n",
    "        elif activation_name in ['celu']:\n",
    "            return nn.CELU()\n",
    "        else:\n",
    "            raise ValueError('Unknown activation function')\n",
    "\n",
    "    def forward(self, x):\n",
    "        # The forward function performs the set of affine and non-linear transformations defining the network\n",
    "        # (see equation above)\n",
    "        if self.n_hidden_layers != 0:\n",
    "            x = self.activation(self.input_layer(x))\n",
    "            for k, l in enumerate(self.hidden_layers):\n",
    "                x = self.activation(l(x))\n",
    "            return self.output_layer(x)\n",
    "        else:\n",
    "            return self.linear_regression_layer(x)"
   ]
  },
  {
   "cell_type": "code",
   "execution_count": 8,
   "metadata": {},
   "outputs": [],
   "source": [
    "def run_single_configuration(conf_dict, x_, y_):\n",
    "    # Set random seed for reproducibility\n",
    "    torch.manual_seed(42)\n",
    "    np.random.seed(42)\n",
    "\n",
    "    print(conf_dict)\n",
    "\n",
    "    # Get the configuration to test\n",
    "    opt_type = conf_dict[\"optimizer\"]\n",
    "    n_epochs = conf_dict[\"epochs\"]\n",
    "    n_hidden_layers = conf_dict[\"hidden_layers\"]\n",
    "    neurons = conf_dict[\"neurons\"]\n",
    "    regularization_param = conf_dict[\"regularization_param\"]\n",
    "    regularization_exp = conf_dict[\"regularization_exp\"]\n",
    "    retrain_seed = conf_dict[\"init_weight_seed\"]\n",
    "    batch_size = conf_dict[\"batch_size\"]\n",
    "    activation = conf_dict[\"activation\"]\n",
    "\n",
    "    validation_size = int(0 * x_.shape[0] / 100)\n",
    "    #training_size = x_.shape[0] - validation_size\n",
    "    valid_index = random.sample(range(x_.shape[0]), validation_size)\n",
    "\n",
    "    x_val = x_[valid_index, :]\n",
    "    y_val = y_[valid_index, :]\n",
    "\n",
    "    def th_delete(tensor, indices):\n",
    "        mask = torch.ones(tensor.shape[0], dtype=torch.bool)\n",
    "        mask[indices] = False\n",
    "        return tensor[mask,:]\n",
    "\n",
    "    x_train = th_delete(x_, valid_index)\n",
    "    y_train = th_delete(y_, valid_index)\n",
    "\n",
    "    training_set = DataLoader(torch.utils.data.TensorDataset(x_train, y_train), batch_size=batch_size, shuffle=True)\n",
    "\n",
    "    my_network = NeuralNet(input_dimension=x_.shape[1],\n",
    "                           output_dimension=y_.shape[1],\n",
    "                           n_hidden_layers=n_hidden_layers,\n",
    "                           neurons=neurons,\n",
    "                           regularization_param=regularization_param,\n",
    "                           regularization_exp=regularization_exp,\n",
    "                           retrain_seed=retrain_seed,\n",
    "                           activation_name=activation)\n",
    "\n",
    "    if opt_type == \"ADAM\":\n",
    "        optimizer_ = optim.Adam(my_network.parameters(), lr=0.001)\n",
    "    if opt_type == \"ADAM1\":\n",
    "        optimizer_ = optim.Adam(my_network.parameters(), lr=0.002)\n",
    "    elif opt_type == \"LBFGS\":\n",
    "        optimizer_ = optim.LBFGS(my_network.parameters(), lr=0.1, max_iter=1, max_eval=50000, tolerance_change=1.0 * np.finfo(float).eps)\n",
    "    else:\n",
    "        raise ValueError(\"Optimizer not recognized\")\n",
    "\n",
    "    history = fit(my_network, training_set, x_val, y_val, n_epochs, optimizer_, p=2, verbose=False)\n",
    "\n",
    "    y_val = y_val.reshape(-1, )\n",
    "    y_train = y_train.reshape(-1, )\n",
    "\n",
    "    #y_test_pred = my_network(x_test).reshape(-1, )\n",
    "    y_val_pred = my_network(x_val).reshape(-1, )\n",
    "    y_train_pred = my_network(x_train).reshape(-1, )\n",
    "\n",
    "    # Compute the relative training error\n",
    "    relative_error_train = torch.mean((y_train_pred - y_train) ** 2) / torch.mean(y_train ** 2)\n",
    "    print(\"Relative Training Error: \", relative_error_train.detach().numpy() ** 0.5 * 100, \"%\")\n",
    "\n",
    "    # Compute the relative validation error\n",
    "    relative_error_val = torch.mean((y_val_pred - y_val) ** 2) / torch.mean(y_val ** 2)\n",
    "    print(\"Relative Validation Error: \", relative_error_val.detach().numpy() ** 0.5 * 100, \"%\")\n",
    "\n",
    "    return relative_error_train.item(), relative_error_val.item(), my_network"
   ]
  },
  {
   "cell_type": "code",
   "execution_count": 9,
   "metadata": {},
   "outputs": [],
   "source": [
    "def fit(model, training_set, x_validation_, y_validation_, num_epochs, optimizer, p, verbose=True):\n",
    "    history = [[], []]\n",
    "    regularization_param = model.regularization_param\n",
    "\n",
    "    # Loop over epochs\n",
    "    for epoch in range(num_epochs):\n",
    "        if verbose: print(\"################################ \", epoch, \" ################################\")\n",
    "\n",
    "        running_loss = list([0])\n",
    "\n",
    "        # Loop over batches\n",
    "        for j, (x_train_, u_train_) in enumerate(training_set):\n",
    "            def closure():\n",
    "                # zero the parameter gradients\n",
    "                optimizer.zero_grad()\n",
    "                # forward + backward + optimize\n",
    "                u_pred_ = model(x_train_)\n",
    "                loss_u = torch.mean((u_pred_.reshape(-1, ) - u_train_.reshape(-1, )) ** p)\n",
    "                loss_reg = model.regularization()\n",
    "                loss = loss_u + regularization_param * loss_reg\n",
    "                loss.backward()\n",
    "                # Compute average training loss over batches for the current epoch\n",
    "                running_loss[0] += loss.item() / len(training_set)\n",
    "                return loss\n",
    "\n",
    "            optimizer.step(closure=closure)\n",
    "\n",
    "        y_validation_pred_ = model(x_validation_)\n",
    "        validation_loss = torch.mean((y_validation_pred_.reshape(-1, ) - y_validation_.reshape(-1, )) ** p).item()\n",
    "        history[0].append(running_loss[0])\n",
    "        history[1].append(validation_loss)\n",
    "\n",
    "        if verbose:\n",
    "            print('Training Loss: ', np.round(running_loss[0], 8))\n",
    "            print('Validation Loss: ', np.round(validation_loss, 8))\n",
    "\n",
    "    print('Final Training Loss: ', np.round(history[0][-1], 8))\n",
    "    print('Final Validation Loss: ', np.round(history[1][-1], 8))\n",
    "    return history"
   ]
  },
  {
   "cell_type": "code",
   "execution_count": null,
   "metadata": {},
   "outputs": [],
   "source": [
    "hyperparameters_configurations = {\n",
    "        \"hidden_layers\": [2],\n",
    "        \"neurons\": [30],\n",
    "        \"regularization_exp\": [2],\n",
    "        \"regularization_param\": [0, 1e-4],\n",
    "        \"batch_size\": [5],\n",
    "        \"epochs\": [1500],\n",
    "        \"optimizer\": [\"ADAM\"], ###use LB but then you need to correct the batch size\n",
    "        \"init_weight_seed\": [3000],\n",
    "        \"activation\": [\"tanh\"]\n",
    "    }\n",
    "\n",
    "settings = list(itertools.product(*hyperparameters_configurations.values()))\n",
    "\n",
    "i = 0\n",
    "\n",
    "train_err_conf = list()\n",
    "val_err_conf = list()\n",
    "my_nets = list()\n",
    "\n",
    "for set_num, setup in enumerate(settings):\n",
    "    print(\"###################################\", set_num, \"###################################\")\n",
    "    setup_properties = {\n",
    "        \"hidden_layers\": setup[0],\n",
    "        \"neurons\": setup[1],\n",
    "        \"regularization_exp\": setup[2],\n",
    "        \"regularization_param\": setup[3],\n",
    "        \"batch_size\": setup[4],\n",
    "        \"epochs\": setup[5],\n",
    "        \"optimizer\": setup[6],\n",
    "        \"init_weight_seed\": setup[7],\n",
    "        \"activation\": setup[8]\n",
    "    }\n",
    "\n",
    "    relative_error_train_, relative_error_val_, my_network = run_single_configuration(setup_properties, input_nn, output_nn)\n",
    "    train_err_conf.append(relative_error_train_)\n",
    "    val_err_conf.append(relative_error_val_)\n",
    "    my_nets.append(my_network)\n",
    "\n",
    "train_err_conf = np.array(train_err_conf)\n",
    "val_err_conf = np.array(val_err_conf)\n",
    "my_nets = np.array(my_nets)\n",
    "    "
   ]
  },
  {
   "cell_type": "markdown",
   "metadata": {},
   "source": [
    "CHOOSE INDEX OK"
   ]
  },
  {
   "cell_type": "code",
   "execution_count": 8,
   "metadata": {},
   "outputs": [],
   "source": [
    "choose=[0, 2, 7, 12, 14, 18, 25, 31, 32]\n"
   ]
  },
  {
   "cell_type": "code",
   "execution_count": 10,
   "metadata": {},
   "outputs": [
    {
     "name": "stdout",
     "output_type": "stream",
     "text": [
      "################################### 0 ###################################\n",
      "{'hidden_layers': 2, 'neurons': 30, 'regularization_exp': 2, 'regularization_param': 0, 'batch_size': 10, 'epochs': 3500, 'optimizer': 'ADAM', 'init_weight_seed': 3000, 'activation': 'tanh'}\n",
      "Final Training Loss:  1.339e-05\n",
      "Final Validation Loss:  nan\n",
      "Relative Training Error:  0.7949029095470905 %\n",
      "Relative Validation Error:  nan %\n"
     ]
    }
   ],
   "source": [
    "hyperparameters_configurations = {\n",
    "        \"hidden_layers\": [2],\n",
    "        \"neurons\": [30],\n",
    "        \"regularization_exp\": [2],\n",
    "        \"regularization_param\": [0],\n",
    "        \"batch_size\": [10],\n",
    "        \"epochs\": [3500],\n",
    "        \"optimizer\": [\"ADAM\"], ###use LB but then you need to correct the batch size\n",
    "        \"init_weight_seed\": [3000],\n",
    "        \"activation\": [\"tanh\"]\n",
    "    }\n",
    "\n",
    "settings = list(itertools.product(*hyperparameters_configurations.values()))\n",
    "\n",
    "i = 0\n",
    "\n",
    "for set_num, setup in enumerate(settings):\n",
    "    print(\"###################################\", set_num, \"###################################\")\n",
    "    setup_properties = {\n",
    "        \"hidden_layers\": setup[0],\n",
    "        \"neurons\": setup[1],\n",
    "        \"regularization_exp\": setup[2],\n",
    "        \"regularization_param\": setup[3],\n",
    "        \"batch_size\": setup[4],\n",
    "        \"epochs\": setup[5],\n",
    "        \"optimizer\": setup[6],\n",
    "        \"init_weight_seed\": setup[7],\n",
    "        \"activation\": setup[8]\n",
    "    }\n",
    "\n",
    "    relative_error_train_, relative_error_val_, my_network_secondo = run_single_configuration(setup_properties, input_nn, output_nn)"
   ]
  },
  {
   "cell_type": "code",
   "execution_count": 12,
   "metadata": {},
   "outputs": [
    {
     "name": "stdout",
     "output_type": "stream",
     "text": [
      "################################### 0 ###################################\n",
      "{'hidden_layers': 2, 'neurons': 25, 'regularization_exp': 2, 'regularization_param': 0, 'batch_size': 10, 'epochs': 3000, 'optimizer': 'ADAM1', 'init_weight_seed': 128, 'activation': 'sigmoid'}\n",
      "Final Training Loss:  6.629e-05\n",
      "Final Validation Loss:  nan\n",
      "Relative Training Error:  2.0044438540935516 %\n",
      "Relative Validation Error:  nan %\n"
     ]
    }
   ],
   "source": [
    "hyperparameters_configurations = {\n",
    "        \"hidden_layers\": [2],  \n",
    "        \"neurons\": [25],  \n",
    "        \"regularization_exp\": [2],  \n",
    "        \"regularization_param\": [0],  \n",
    "        \"batch_size\": [10],  \n",
    "        \"epochs\": [3000],  \n",
    "        \"optimizer\": [\"ADAM1\"], ###use LB but then you need to correct the batch size  \n",
    "        \"init_weight_seed\": [128],  \n",
    "        \"activation\": [\"sigmoid\"]\n",
    "    }\n",
    "\n",
    "settings = list(itertools.product(*hyperparameters_configurations.values()))\n",
    "\n",
    "i = 0\n",
    "\n",
    "for set_num, setup in enumerate(settings):\n",
    "    print(\"###################################\", set_num, \"###################################\")\n",
    "    setup_properties = {\n",
    "        \"hidden_layers\": setup[0],\n",
    "        \"neurons\": setup[1],\n",
    "        \"regularization_exp\": setup[2],\n",
    "        \"regularization_param\": setup[3],\n",
    "        \"batch_size\": setup[4],\n",
    "        \"epochs\": setup[5],\n",
    "        \"optimizer\": setup[6],\n",
    "        \"init_weight_seed\": setup[7],\n",
    "        \"activation\": setup[8]\n",
    "    }\n",
    "\n",
    "    relative_error_train_, relative_error_val_, my_network_maina = run_single_configuration(setup_properties, input_nn, output_nn)"
   ]
  },
  {
   "cell_type": "markdown",
   "metadata": {},
   "source": [
    "FIT THE CHOSEN NN"
   ]
  },
  {
   "cell_type": "code",
   "execution_count": 7,
   "metadata": {},
   "outputs": [
    {
     "name": "stdout",
     "output_type": "stream",
     "text": [
      "################################### 0 ###################################\n",
      "{'hidden_layers': 2, 'neurons': 30, 'regularization_exp': 2, 'regularization_param': 0, 'batch_size': 10, 'epochs': 3500, 'optimizer': 'ADAM', 'init_weight_seed': 3000, 'activation': 'tanh'}\n",
      "Final Training Loss:  1.339e-05\n",
      "Final Validation Loss:  nan\n",
      "Relative Training Error:  0.7949029095470905 %\n",
      "Relative Validation Error:  nan %\n"
     ]
    }
   ],
   "source": [
    "hyperparameters_configurations = {\n",
    "        \"hidden_layers\": [2],\n",
    "        \"neurons\": [30],\n",
    "        \"regularization_exp\": [2],\n",
    "        \"regularization_param\": [0],\n",
    "        \"batch_size\": [10],\n",
    "        \"epochs\": [3500],\n",
    "        \"optimizer\": [\"ADAM\"], ###use LB but then you need to correct the batch size\n",
    "        \"init_weight_seed\": [3000],\n",
    "        \"activation\": [\"tanh\"]\n",
    "    }\n",
    "\n",
    "\n",
    "settings = list(itertools.product(*hyperparameters_configurations.values()))\n",
    "\n",
    "i = 0\n",
    "\n",
    "for set_num, setup in enumerate(settings):\n",
    "    print(\"###################################\", set_num, \"###################################\")\n",
    "    setup_properties = {\n",
    "        \"hidden_layers\": setup[0],\n",
    "        \"neurons\": setup[1],\n",
    "        \"regularization_exp\": setup[2],\n",
    "        \"regularization_param\": setup[3],\n",
    "        \"batch_size\": setup[4],\n",
    "        \"epochs\": setup[5],\n",
    "        \"optimizer\": setup[6],\n",
    "        \"init_weight_seed\": setup[7],\n",
    "        \"activation\": setup[8]\n",
    "    }\n",
    "\n",
    "    relative_error_train_, relative_error_val_, my_network = run_single_configuration(setup_properties, input_nn, output_nn)"
   ]
  },
  {
   "cell_type": "markdown",
   "metadata": {},
   "source": [
    "DEFINE THE COST FUNCTION"
   ]
  },
  {
   "cell_type": "code",
   "execution_count": 13,
   "metadata": {},
   "outputs": [],
   "source": [
    "def values(my_network, n_sample, v_val, CF_ref = 0.45):\n",
    "    results = []\n",
    "    D_val = torch.from_numpy(np.linspace(2, 20, n_sample)).type(torch.float32).reshape(-1,1)\n",
    "    D_val = (D_val - extr_input[0][0])/(extr_input[1][0] - extr_input[0][0])\n",
    "    for j, i in enumerate(D_val):\n",
    "        if j%50 == 0:\n",
    "            print('#####################################', j, '#####################################')\n",
    "        D_exp = (i.reshape(-1,1)).expand(v_val.shape[0], 1)\n",
    "        input = torch.cat([D_exp, v_val], 1)\n",
    "        pred = my_network(input).reshape(-1,1)\n",
    "        input[:,0] = input[:,0]*(extr_input[1][0] - extr_input[0][0]) + extr_input[0][0]\n",
    "        input[:,1] = input[:,1]*(extr_input[1][1] - extr_input[0][1]) + extr_input[0][1]\n",
    "        ress = torch.cat([input, abs((pred*(extr_output[1]-extr_output[0]) + extr_output[0]) - CF_ref)], 1)\n",
    "        ress = ress.tolist()\n",
    "        sort = sorted(ress, key=lambda x: x[2])\n",
    "        results = results + [sort[0]]\n",
    "    return results"
   ]
  },
  {
   "cell_type": "code",
   "execution_count": null,
   "metadata": {},
   "outputs": [],
   "source": [
    "def values_grid(my_network, n_sample, v_val, CF_ref = 0.45):\n",
    "    results = []\n",
    "    D_val = torch.from_numpy(np.linspace(2, 20, n_sample)).type(torch.float32).reshape(-1,1)\n",
    "    D_val = (D_val - extr_input[0][0])/(extr_input[1][0] - extr_input[0][0])\n",
    "    for j, i in enumerate(D_val):\n",
    "        if j%50 == 0:\n",
    "            print('#####################################', j, '#####################################')\n",
    "        D_exp = (i.reshape(-1,1)).expand(v_val.shape[0], 1)\n",
    "        input = torch.cat([D_exp, v_val], 1)\n",
    "        pred = my_network(input).reshape(-1,1)\n",
    "        input[:,0] = input[:,0]*(extr_input[1][0] - extr_input[0][0]) + extr_input[0][0]\n",
    "        input[:,1] = input[:,1]*(extr_input[1][1] - extr_input[0][1]) + extr_input[0][1]\n",
    "        ress = torch.cat([input, abs((pred*(extr_output[1]-extr_output[0]) + extr_output[0]) - CF_ref)], 1)\n",
    "        ress = ress.tolist()\n",
    "        results = results + ress\n",
    "    return results"
   ]
  },
  {
   "attachments": {},
   "cell_type": "markdown",
   "metadata": {},
   "source": [
    "ENSEMBLE"
   ]
  },
  {
   "cell_type": "code",
   "execution_count": null,
   "metadata": {
    "collapsed": false,
    "pycharm": {
     "name": "#%%\n"
    }
   },
   "outputs": [],
   "source": [
    "n_sample = 1000\n",
    "v_val =  torch.from_numpy(np.linspace(50, 400, 1000*n_sample)).type(torch.float32).reshape(-1,1)\n",
    "v_val = (v_val - extr_input[0][1])/(extr_input[1][1] - extr_input[0][1])\n",
    "\n",
    "results_mean = []\n",
    "for i in choose:\n",
    "    results_1perD = values(my_nets[i], n_sample, v_val)\n",
    "    results_mean.append(results_1perD)\n",
    "\n",
    "results_secondo = values(my_network_secondo, n_sample, v_val)\n",
    "results_mean.append(results_secondo)"
   ]
  },
  {
   "cell_type": "code",
   "execution_count": 15,
   "metadata": {},
   "outputs": [],
   "source": [
    "results_mean = np.array(results_mean)"
   ]
  },
  {
   "cell_type": "code",
   "execution_count": 16,
   "metadata": {},
   "outputs": [],
   "source": [
    "mean_res = np.zeros(1000)\n",
    "for i in range(len(results_mean)):\n",
    "    mean_res = mean_res + results_mean[i,:,1]\n",
    "mean_res = mean_res/(len(choose)+1)"
   ]
  },
  {
   "cell_type": "code",
   "execution_count": 17,
   "metadata": {},
   "outputs": [
    {
     "data": {
      "image/png": "[encoded data removed]",
      "text/plain": [
       "<Figure size 1080x720 with 1 Axes>"
      ]
     },
     "metadata": {
      "needs_background": "light"
     },
     "output_type": "display_data"
    }
   ],
   "source": [
    "plt.figure(figsize=(15, 10))\n",
    "plt.scatter(results_mean[3,:,0], mean_res)\n",
    "plt.title(\"Curve of optimal control parameters\")\n",
    "plt.xlabel(\"D, diameter of the storage\")\n",
    "plt.ylabel(\"v, volume\")\n",
    "plt.show()"
   ]
  },
  {
   "cell_type": "code",
   "execution_count": 18,
   "metadata": {},
   "outputs": [],
   "source": [
    "submission = np.concatenate([results_mean[1,:,0].reshape(-1,1), mean_res.reshape(-1,1)], 1)"
   ]
  },
  {
   "cell_type": "markdown",
   "metadata": {},
   "source": [
    "LOSS FUNCTION !!! INSTEAD OF OPTIMIZING WITH A GRID"
   ]
  },
  {
   "cell_type": "code",
   "execution_count": 13,
   "metadata": {},
   "outputs": [],
   "source": [
    "def argmin(G, y_0, lr=None, epochs=1000, verbose=False, box_constraint=None):\n",
    "    y_opt = y_0.clone().detach().requires_grad_(True)\n",
    "\n",
    "    if box_constraint is not None:\n",
    "        if lr is None:\n",
    "            lr = 0.01\n",
    "\n",
    "        # ADAM can also be used here\n",
    "        optimizer = optim.SGD([y_opt], lr=lr)\n",
    "\n",
    "        for _ in range(epochs):\n",
    "\n",
    "            def closure():\n",
    "                optimizer.zero_grad()\n",
    "                g_forward = G(y_opt)\n",
    "                if verbose:\n",
    "                    print(\"loss: \", g_forward.item(), \"value :\", y_opt)\n",
    "                g_forward.backward()\n",
    "                return g_forward\n",
    "\n",
    "            optimizer.step(closure=closure)\n",
    "            # TODO: implement Mirror descent with Bit entropy as Bregman divergence\n",
    "            # For now, only projected gradient decent is implemented\n",
    "            with torch.no_grad():\n",
    "                y_opt.clamp_(*box_constraint)\n",
    "\n",
    "    else:\n",
    "        if lr is None:\n",
    "            lr = 0.1\n",
    "        optimizer = optim.LBFGS(\n",
    "            [y_opt],\n",
    "            lr=float(lr),\n",
    "            max_iter=50000,\n",
    "            max_eval=50000,\n",
    "            history_size=100,\n",
    "            line_search_fn=\"strong_wolfe\",\n",
    "            tolerance_change=1.0 * np.finfo(float).eps,\n",
    "        )\n",
    "\n",
    "        def closure():\n",
    "            optimizer.zero_grad()\n",
    "            g_forward = G(y_opt)\n",
    "            if verbose:\n",
    "                print(\"loss: \", g_forward.item(), \"value :\", y_opt)\n",
    "            g_forward.backward()\n",
    "            return g_forward\n",
    "\n",
    "        optimizer.step(closure=closure)\n",
    "\n",
    "    return y_opt.detach()"
   ]
  },
  {
   "cell_type": "code",
   "execution_count": 14,
   "metadata": {},
   "outputs": [],
   "source": [
    "def get_G(approx_CF, CF_ref=0.45):\n",
    "    def G(Dv):\n",
    "        # sum to make it work with simultaneously on many rows\n",
    "        return torch.sum((CF_ref - approx_CF(Dv)) ** 2)\n",
    "\n",
    "    return G"
   ]
  },
  {
   "cell_type": "code",
   "execution_count": 15,
   "metadata": {},
   "outputs": [],
   "source": [
    "CF_ref_ = 0.45\n",
    "CF_ref = (CF_ref_ - extr_output[0])/(extr_output[1]- extr_output[0])\n",
    "\n",
    "G = get_G(my_network, CF_ref=CF_ref)"
   ]
  },
  {
   "cell_type": "code",
   "execution_count": 16,
   "metadata": {},
   "outputs": [],
   "source": [
    "D = torch.tensor([2, 20])\n",
    "v = torch.tensor([50, 400])\n",
    "\n",
    "n_samples = 1000\n",
    "soboleng = torch.quasirandom.SobolEngine(dimension=2)\n",
    "x_sample = soboleng.draw(n_samples)\n",
    "#transform Sobol points\n",
    "x_sample[:,0]=x_sample[:,0]*(D[1]-D[0])+D[0]\n",
    "x_sample[:,1]=x_sample[:,1]*(v[1]-v[0])+v[0]\n",
    "\n",
    "x_sample[:,0] = (x_sample[:,0] - extr_input[0][0])/(extr_input[1][0] - extr_input[0][0])\n",
    "x_sample[:,1] = (x_sample[:,1] - extr_input[0][1])/(extr_input[1][1] - extr_input[0][1])\n",
    "\n",
    "x_opt_curve = x_sample.clone().detach()\n",
    "x_opt_curve = argmin(G, y_0=x_opt_curve, verbose=False, box_constraint=[0, 1])"
   ]
  },
  {
   "cell_type": "code",
   "execution_count": 17,
   "metadata": {},
   "outputs": [],
   "source": [
    "x_opt_curve[:,0] = x_opt_curve[:,0]*(extr_input[1][0] - extr_input[0][0]) + extr_input[0][0]\n",
    "x_opt_curve[:,1] = x_opt_curve[:,1]*(extr_input[1][1] - extr_input[0][1]) + extr_input[0][1]"
   ]
  },
  {
   "cell_type": "code",
   "execution_count": 18,
   "metadata": {},
   "outputs": [
    {
     "data": {
      "text/plain": [
       "<matplotlib.collections.PathCollection at 0x1593b5c6ad0>"
      ]
     },
     "execution_count": 18,
     "metadata": {},
     "output_type": "execute_result"
    },
    {
     "data": {
      "image/png": "[encoded data removed]",
      "text/plain": [
       "<Figure size 432x288 with 1 Axes>"
      ]
     },
     "metadata": {
      "needs_background": "light"
     },
     "output_type": "display_data"
    }
   ],
   "source": [
    "plt.scatter(x_opt_curve[:,0], x_opt_curve[:,1])"
   ]
  }
 ],
 "metadata": {
  "kernelspec": {
   "display_name": "Python 3",
   "language": "python",
   "name": "python3"
  },
  "language_info": {
   "codemirror_mode": {
    "name": "ipython",
    "version": 3
   },
   "file_extension": ".py",
   "mimetype": "text/x-python",
   "name": "python",
   "nbconvert_exporter": "python",
   "pygments_lexer": "ipython3",
   "version": "3.10.4 (tags/v3.10.4:9d38120, Mar 23 2022, 23:13:41) [MSC v.1929 64 bit (AMD64)]"
  },
  "orig_nbformat": 4,
  "vscode": {
   "interpreter": {
    "hash": "2469a70536e4d2335a2ea8907942d0699c37342a371ac185bdb5b0aa6f073890"
   }
  }
 },
 "nbformat": 4,
 "nbformat_minor": 2
}
