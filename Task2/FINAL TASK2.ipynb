{
 "cells": [
  {
   "cell_type": "code",
   "execution_count": 1,
   "metadata": {
    "collapsed": true
   },
   "outputs": [],
   "source": [
    "# Import packages\n",
    "import torch\n",
    "import torch.nn as nn\n",
    "import torch.optim as optim\n",
    "import torch.utils\n",
    "import torch.utils.data\n",
    "from torch.utils.data import DataLoader\n",
    "import matplotlib.pyplot as plt\n",
    "import numpy as np\n",
    "import itertools\n",
    "import pandas as pd\n",
    "import random"
   ]
  },
  {
   "cell_type": "code",
   "execution_count": 2,
   "metadata": {
    "collapsed": false,
    "pycharm": {
     "name": "#%%\n"
    }
   },
   "outputs": [],
   "source": [
    "# Set random seed for reproducibility\n",
    "torch.manual_seed(42)\n",
    "np.random.seed(42)"
   ]
  },
  {
   "cell_type": "markdown",
   "metadata": {
    "collapsed": false
   },
   "source": [
    "NEURAL NET"
   ]
  },
  {
   "cell_type": "code",
   "execution_count": 3,
   "metadata": {
    "collapsed": false,
    "pycharm": {
     "name": "#%%\n"
    }
   },
   "outputs": [],
   "source": [
    "class NeuralNet(nn.Module):\n",
    "\n",
    "    def __init__(self,\n",
    "                 input_dimension,\n",
    "                 output_dimension,\n",
    "                 n_hidden_layers,\n",
    "                 neurons,\n",
    "                 regularization_param,\n",
    "                 regularization_exp,\n",
    "                 retrain_seed,\n",
    "                 activation_name):\n",
    "\n",
    "        super(NeuralNet, self).__init__()\n",
    "        # Number of input dimensions n\n",
    "        self.input_dimension = input_dimension\n",
    "        # Number of output dimensions m\n",
    "        self.output_dimension = output_dimension\n",
    "        # Number of neurons per layer\n",
    "        self.neurons = neurons\n",
    "        # Number of hidden layers\n",
    "        self.n_hidden_layers = n_hidden_layers\n",
    "        # Activation function\n",
    "        self.activation_name = activation_name\n",
    "        self.activation = self.get_activation(activation_name)\n",
    "        # Regularization parameter\n",
    "        self.regularization_param = regularization_param\n",
    "        # Regularization exponent\n",
    "        self.regularization_exp = regularization_exp\n",
    "        # Random seed for weight initialization\n",
    "        self.retrain_seed = retrain_seed\n",
    "\n",
    "        if self.n_hidden_layers != 0:\n",
    "            self.input_layer = nn.Linear(self.input_dimension, self.neurons)\n",
    "            self.hidden_layers = nn.ModuleList([nn.Linear(self.neurons, self.neurons) for _ in range(n_hidden_layers - 1)])\n",
    "            self.output_layer = nn.Linear(self.neurons, self.output_dimension)\n",
    "\n",
    "        else:\n",
    "            print(\"Simple linear regression\")\n",
    "            self.linear_regression_layer = nn.Linear(self.input_dimension, self.output_dimension)\n",
    "\n",
    "        self.init_xavier()\n",
    "\n",
    "    def init_xavier(self):\n",
    "        torch.manual_seed(self.retrain_seed)\n",
    "\n",
    "        def init_weights(m):\n",
    "            if type(m) == nn.Linear and m.weight.requires_grad and m.bias.requires_grad:\n",
    "                if self.activation_name in ['tanh', 'relu']:\n",
    "                    gain = nn.init.calculate_gain(self.activation_name)\n",
    "                else:\n",
    "                    gain = 1\n",
    "                torch.nn.init.xavier_uniform_(m.weight, gain=gain)\n",
    "                m.bias.data.fill_(0)\n",
    "\n",
    "        self.apply(init_weights)\n",
    "\n",
    "    def regularization(self):\n",
    "        reg_loss = 0\n",
    "        for name, param in self.named_parameters():\n",
    "            if 'weight' in name:\n",
    "                reg_loss = reg_loss + torch.norm(param, self.regularization_exp)\n",
    "        return reg_loss\n",
    "\n",
    "    def get_activation(self, activation_name):\n",
    "        if activation_name in ['tanh']:\n",
    "            return nn.Tanh()\n",
    "        elif activation_name in ['relu']:\n",
    "            return nn.ReLU(inplace=True)\n",
    "        elif activation_name in ['lrelu']:\n",
    "            return nn.LeakyReLU(inplace=True)\n",
    "        elif activation_name in ['sigmoid']:\n",
    "            return nn.Sigmoid()\n",
    "        elif activation_name in ['softplus']:\n",
    "            return nn.Softplus(beta=4)\n",
    "        elif activation_name in ['celu']:\n",
    "            return nn.CELU()\n",
    "        else:\n",
    "            raise ValueError('Unknown activation function')\n",
    "\n",
    "    def forward(self, x):\n",
    "        # The forward function performs the set of affine and non-linear transformations defining the network\n",
    "        # (see equation above)\n",
    "        if self.n_hidden_layers != 0:\n",
    "            x = self.activation(self.input_layer(x))\n",
    "            for k, l in enumerate(self.hidden_layers):\n",
    "                x = self.activation(l(x))\n",
    "            return self.output_layer(x)\n",
    "        else:\n",
    "            return self.linear_regression_layer(x)\n"
   ]
  },
  {
   "cell_type": "code",
   "execution_count": 4,
   "metadata": {
    "collapsed": false,
    "pycharm": {
     "name": "#%%\n"
    }
   },
   "outputs": [],
   "source": [
    "def run_single_configuration(conf_dict, x_, y_):\n",
    "    # Set random seed for reproducibility\n",
    "    torch.manual_seed(42)\n",
    "    np.random.seed(42)\n",
    "\n",
    "    print(conf_dict)\n",
    "\n",
    "    # Get the configuration to test\n",
    "    opt_type = conf_dict[\"optimizer\"]\n",
    "    n_epochs = conf_dict[\"epochs\"]\n",
    "    n_hidden_layers = conf_dict[\"hidden_layers\"]\n",
    "    neurons = conf_dict[\"neurons\"]\n",
    "    regularization_param = conf_dict[\"regularization_param\"]\n",
    "    regularization_exp = conf_dict[\"regularization_exp\"]\n",
    "    retrain_seed = conf_dict[\"init_weight_seed\"]\n",
    "    batch_size = conf_dict[\"batch_size\"]\n",
    "    activation = conf_dict[\"activation\"]\n",
    "\n",
    "    validation_size = int(20 * x_.shape[0] / 100)\n",
    "    training_size = x_.shape[0] - validation_size\n",
    "    x_train = x_[:training_size, :]\n",
    "    y_train = y_[:training_size, :]\n",
    "\n",
    "    x_val = x_[training_size:, :]\n",
    "    y_val = y_[training_size:, :]\n",
    "\n",
    "    training_set = DataLoader(torch.utils.data.TensorDataset(x_train, y_train), batch_size=batch_size, shuffle=True)\n",
    "\n",
    "    my_network = NeuralNet(input_dimension=x_.shape[1],\n",
    "                           output_dimension=y_.shape[1],\n",
    "                           n_hidden_layers=n_hidden_layers,\n",
    "                           neurons=neurons,\n",
    "                           regularization_param=regularization_param,\n",
    "                           regularization_exp=regularization_exp,\n",
    "                           retrain_seed=retrain_seed,\n",
    "                           activation_name=activation)\n",
    "\n",
    "    if opt_type == \"ADAM\":\n",
    "        optimizer_ = optim.Adam(my_network.parameters(), lr=0.001)\n",
    "    elif opt_type == \"LBFGS\":\n",
    "        optimizer_ = optim.LBFGS(my_network.parameters(), lr=0.1, max_iter=1, max_eval=50000, tolerance_change=1.0 * np.finfo(float).eps)\n",
    "    else:\n",
    "        raise ValueError(\"Optimizer not recognized\")\n",
    "\n",
    "    history = fit(my_network, training_set, x_val, y_val, n_epochs, optimizer_, p=2, verbose=False)\n",
    "\n",
    "    y_val = y_val.reshape(-1, )\n",
    "    y_train = y_train.reshape(-1, )\n",
    "\n",
    "    #y_test_pred = my_network(x_test).reshape(-1, )\n",
    "    y_val_pred = my_network(x_val).reshape(-1, )\n",
    "    y_train_pred = my_network(x_train).reshape(-1, )\n",
    "\n",
    "    # Compute the relative training error\n",
    "    relative_error_train = torch.mean((y_train_pred - y_train) ** 2) / torch.mean(y_train ** 2)\n",
    "    print(\"Relative Training Error: \", relative_error_train.detach().numpy() ** 0.5 * 100, \"%\")\n",
    "\n",
    "    # Compute the relative validation error\n",
    "    relative_error_val = torch.mean((y_val_pred - y_val) ** 2) / torch.mean(y_val ** 2)\n",
    "    print(\"Relative Validation Error: \", relative_error_val.detach().numpy() ** 0.5 * 100, \"%\")\n",
    "\n",
    "    return relative_error_train.item(), relative_error_val.item(), my_network"
   ]
  },
  {
   "cell_type": "code",
   "execution_count": 5,
   "metadata": {
    "collapsed": false,
    "pycharm": {
     "name": "#%%\n"
    }
   },
   "outputs": [],
   "source": [
    "def fit(model, training_set, x_validation_, y_validation_, num_epochs, optimizer, p, verbose=True):\n",
    "    history = [[], []]\n",
    "    regularization_param = model.regularization_param\n",
    "\n",
    "    # Loop over epochs\n",
    "    for epoch in range(num_epochs):\n",
    "        if verbose: print(\"################################ \", epoch, \" ################################\")\n",
    "\n",
    "        running_loss = list([0])\n",
    "\n",
    "        # Loop over batches\n",
    "        for j, (x_train_, u_train_) in enumerate(training_set):\n",
    "            def closure():\n",
    "                # zero the parameter gradients\n",
    "                optimizer.zero_grad()\n",
    "                # forward + backward + optimize\n",
    "                u_pred_ = model(x_train_)\n",
    "                loss_u = torch.mean((u_pred_.reshape(-1, ) - u_train_.reshape(-1, )) ** p)\n",
    "                loss_reg = model.regularization()\n",
    "                loss = loss_u + regularization_param * loss_reg\n",
    "                loss.backward()\n",
    "                # Compute average training loss over batches for the current epoch\n",
    "                running_loss[0] += loss.item() / len(training_set)\n",
    "                return loss\n",
    "\n",
    "            optimizer.step(closure=closure)\n",
    "\n",
    "        y_validation_pred_ = model(x_validation_)\n",
    "        validation_loss = torch.mean((y_validation_pred_.reshape(-1, ) - y_validation_.reshape(-1, )) ** p).item()\n",
    "        history[0].append(running_loss[0])\n",
    "        history[1].append(validation_loss)\n",
    "\n",
    "        if verbose:\n",
    "            print('Training Loss: ', np.round(running_loss[0], 8))\n",
    "            print('Validation Loss: ', np.round(validation_loss, 8))\n",
    "\n",
    "    print('Final Training Loss: ', np.round(history[0][-1], 8))\n",
    "    print('Final Validation Loss: ', np.round(history[1][-1], 8))\n",
    "    return history"
   ]
  },
  {
   "cell_type": "markdown",
   "metadata": {
    "collapsed": false
   },
   "source": [
    "DATA AND DETAILS"
   ]
  },
  {
   "cell_type": "markdown",
   "metadata": {
    "collapsed": false
   },
   "source": [
    "32 RANDOM ELEMENTS AS VALIDATION"
   ]
  },
  {
   "cell_type": "code",
   "execution_count": 6,
   "metadata": {
    "collapsed": false,
    "pycharm": {
     "name": "#%%\n"
    }
   },
   "outputs": [],
   "source": [
    "sampling_seed = 74\n",
    "torch.manual_seed(sampling_seed)\n",
    "\n",
    "data101 = np.loadtxt('TrainingData_101.txt', delimiter=' ')\n",
    "data401 = np.loadtxt('TrainingData_401.txt', delimiter=' ')\n",
    "data1601 = np.loadtxt('TrainingData_1601.txt', delimiter=' ')\n",
    "sobol = np.loadtxt('samples_sobol.txt', delimiter=' ')\n",
    "\n",
    "datasets_meshes=[]\n",
    "datasets_meshes.append(data101)\n",
    "datasets_meshes.append(data401)\n",
    "datasets_meshes.append(data1601)\n",
    "\n",
    "valid_index = random.sample(range(160), 32)\n",
    "training_sets = list()\n",
    "# save min a max of details to detransform the output after NN\n",
    "minima_det = list()\n",
    "maxima_det = list()\n",
    "\n",
    "data_validation = np.concatenate([sobol[valid_index,:], data1601[valid_index,8].reshape(-1,1)], 1)\n",
    "ts_detail_l = np.concatenate([np.delete(sobol, valid_index, 0), np.delete(data101, valid_index, 0)[:,8].reshape(-1,1)], 1)\n",
    "training_sets.append(ts_detail_l)\n",
    "\n",
    "# Obtain the details at different mesh resolutions\n",
    "# can try different normalizations for the two details\n",
    "for l in range(1, 3):\n",
    "    ns = datasets_meshes[l].shape[0]\n",
    "    obs_difff = datasets_meshes[l][:ns, -1] - datasets_meshes[l - 1][:ns, -1]\n",
    "    obs_diff = np.delete(obs_difff, valid_index)\n",
    "    ts_detail_l = np.concatenate([np.delete(sobol, valid_index, 0)[:ns-32, :8], obs_diff.reshape(-1, 1)], 1)\n",
    "    for i in range(8,9):\n",
    "        minima_det.append(min(ts_detail_l[:,i]))\n",
    "        maxima_det.append(max(ts_detail_l[:,i]))\n",
    "        #ts_detail_l[:,i] = (ts_detail_l[:,i] - np.mean(ts_detail_l[:,i])) / np.std(ts_detail_l[:,i])\n",
    "        ts_detail_l[:,i] = (ts_detail_l[:,i] - min(ts_detail_l[:,i])) / (max(ts_detail_l[:,i])-min(ts_detail_l[:,i]))\n",
    "    training_sets.append(ts_detail_l)\n",
    "\n",
    "#normalize or not the first output\n",
    "#for i in range(8,9):\n",
    "    #training_sets[0][:,i] = (training_sets[0][:,i] - min(training_sets[0][:,i])) / (max(training_sets[0][:,i])-min(training_sets[0][:,i]))\n"
   ]
  },
  {
   "cell_type": "code",
   "execution_count": 7,
   "metadata": {
    "collapsed": false,
    "pycharm": {
     "name": "#%%\n"
    }
   },
   "outputs": [
    {
     "name": "stdout",
     "output_type": "stream",
     "text": [
      "(2528, 9)\n",
      "(608, 9)\n",
      "(128, 9)\n"
     ]
    }
   ],
   "source": [
    "for i in range(3):\n",
    "    print(training_sets[i].shape)\n"
   ]
  },
  {
   "cell_type": "markdown",
   "metadata": {
    "collapsed": false
   },
   "source": [
    "FIRST 32 ELEMENTS AS VALIDATION"
   ]
  },
  {
   "cell_type": "code",
   "execution_count": 9,
   "metadata": {
    "collapsed": false,
    "pycharm": {
     "name": "#%%\n"
    }
   },
   "outputs": [],
   "source": [
    "# Random Seed for dataset generation\n",
    "sampling_seed = 74\n",
    "torch.manual_seed(sampling_seed)\n",
    "\n",
    "data101 = np.loadtxt('TrainingData_101.txt', delimiter=' ')\n",
    "data401 = np.loadtxt('TrainingData_401.txt', delimiter=' ')\n",
    "data1601 = np.loadtxt('TrainingData_1601.txt', delimiter=' ')\n",
    "sobol = np.loadtxt('samples_sobol.txt', delimiter=' ')\n",
    "\n",
    "datasets_meshes=[]\n",
    "datasets_meshes.append(data101)\n",
    "datasets_meshes.append(data401)\n",
    "datasets_meshes.append(data1601)\n",
    "\n",
    "training_sets = list()\n",
    "# save min a max of details to detransform the output after NN\n",
    "minima_det = list()\n",
    "maxima_det = list()\n",
    "data_validation = np.concatenate([sobol[:32,:], data1601[:32,8].reshape(-1,1)], 1)\n",
    "ts_detail_l=np.concatenate([sobol[32:,:], data101[32:,8].reshape(-1,1)], 1)\n",
    "training_sets.append(ts_detail_l)\n",
    "\n",
    "# Obtain the details at different mesh resolutions\n",
    "# can try different normalizations for the two details\n",
    "for l in range(1, 3):\n",
    "    ns = datasets_meshes[l].shape[0]\n",
    "    obs_diff = datasets_meshes[l][32:ns, -1] - datasets_meshes[l - 1][32:ns, -1]\n",
    "    ts_detail_l = np.concatenate([sobol[32:ns, :8], obs_diff.reshape(-1, 1)], 1)\n",
    "    for i in range(8,9):\n",
    "        minima_det.append(min(ts_detail_l[:,i]))\n",
    "        maxima_det.append(max(ts_detail_l[:,i]))\n",
    "        #ts_detail_l[:,i] = (ts_detail_l[:,i] - np.mean(ts_detail_l[:,i])) / np.std(ts_detail_l[:,i])\n",
    "        ts_detail_l[:,i] = (ts_detail_l[:,i] - min(ts_detail_l[:,i])) / (max(ts_detail_l[:,i])-min(ts_detail_l[:,i]))\n",
    "    training_sets.append(ts_detail_l)\n",
    "\n",
    "#normalize or not the first output\n",
    "#for i in range(8,9):\n",
    "    #training_sets[0][:,i] = (training_sets[0][:,i] - min(training_sets[0][:,i])) / (max(training_sets[0][:,i])-min(training_sets[0][:,i]))"
   ]
  },
  {
   "cell_type": "code",
   "execution_count": 8,
   "metadata": {
    "collapsed": false,
    "pycharm": {
     "name": "#%%\n"
    }
   },
   "outputs": [
    {
     "name": "stdout",
     "output_type": "stream",
     "text": [
      "[0.5        0.75024438 0.24975562 0.37487781 0.87536657 0.62512219\n",
      " 0.12463343 0.18719453 0.68768328 0.93792766]\n",
      "[0.5    0.75   0.25   0.375  0.875  0.625  0.125  0.1875 0.6875 0.9375]\n"
     ]
    }
   ],
   "source": [
    "#sobol is just the normalization of this\n",
    "data101[:,0] = (data101[:,0] - min(data101[:,0])) / (max(data101[:,0])-min(data101[:,0]))\n",
    "print(data101[:10,0])\n",
    "print(sobol[:10,0])"
   ]
  },
  {
   "cell_type": "markdown",
   "metadata": {
    "collapsed": false
   },
   "source": [
    "FIRST MODEL"
   ]
  },
  {
   "cell_type": "code",
   "execution_count": null,
   "metadata": {
    "collapsed": false,
    "pycharm": {
     "name": "#%%\n"
    }
   },
   "outputs": [],
   "source": [
    "hyperparameters_configurations = {\n",
    "        \"hidden_layers\": [2],\n",
    "        \"neurons\": [25, 30],\n",
    "        \"regularization_exp\": [2],\n",
    "        \"regularization_param\": [0, 1e-4],\n",
    "        \"batch_size\": [2560],\n",
    "        \"epochs\": [2000],\n",
    "        \"optimizer\": [\"LBFGS\"],\n",
    "        \"init_weight_seed\": [567, 1000, 134],\n",
    "        \"activation\": [\"tanh\"]\n",
    "    }\n",
    "\n",
    "settings = list(itertools.product(*hyperparameters_configurations.values()))\n",
    "\n",
    "i = 0\n",
    "\n",
    "train_err_conf = list()\n",
    "val_err_conf = list()\n",
    "for set_num, setup in enumerate(settings):\n",
    "    print(\"###################################\", set_num, \"###################################\")\n",
    "    setup_properties = {\n",
    "        \"hidden_layers\": setup[0],\n",
    "        \"neurons\": setup[1],\n",
    "        \"regularization_exp\": setup[2],\n",
    "        \"regularization_param\": setup[3],\n",
    "        \"batch_size\": setup[4],\n",
    "        \"epochs\": setup[5],\n",
    "        \"optimizer\": setup[6],\n",
    "        \"init_weight_seed\": setup[7],\n",
    "        \"activation\": setup[8]\n",
    "    }\n",
    "\n",
    "    relative_error_train_, relative_error_val_, my_net = run_single_configuration(setup_properties, torch.from_numpy(training_sets[0][:, :8]).type(torch.float32), torch.from_numpy(training_sets[0][:, -1].reshape(-1, 1)).type(torch.float32))\n",
    "    train_err_conf.append(relative_error_train_)\n",
    "    val_err_conf.append(relative_error_val_)\n",
    "\n",
    "train_err_conf = np.array(train_err_conf)\n",
    "val_err_conf = np.array(val_err_conf)"
   ]
  },
  {
   "cell_type": "markdown",
   "metadata": {
    "collapsed": false
   },
   "source": [
    "SECOND MODEL"
   ]
  },
  {
   "cell_type": "code",
   "execution_count": null,
   "metadata": {
    "collapsed": false,
    "pycharm": {
     "name": "#%%\n"
    }
   },
   "outputs": [],
   "source": [
    "hyperparameters_configurations = {\n",
    "        \"hidden_layers\": [2],\n",
    "        \"neurons\": [25, 20],\n",
    "        \"regularization_exp\": [2],\n",
    "        \"regularization_param\": [1e-4, 3e-4],\n",
    "        \"batch_size\": [640],\n",
    "        \"epochs\": [1000],\n",
    "        \"optimizer\": [\"LBFGS\"], ###use LB but then you need to correct the batch size\n",
    "        \"init_weight_seed\": [567, 340],\n",
    "        \"activation\": [\"tanh\"]\n",
    "    }\n",
    "\n",
    "settings = list(itertools.product(*hyperparameters_configurations.values()))\n",
    "\n",
    "i = 0\n",
    "\n",
    "train_err_conf2 = list()\n",
    "val_err_conf2 = list()\n",
    "for set_num, setup in enumerate(settings):\n",
    "    print(\"###################################\", set_num, \"###################################\")\n",
    "    setup_properties = {\n",
    "        \"hidden_layers\": setup[0],\n",
    "        \"neurons\": setup[1],\n",
    "        \"regularization_exp\": setup[2],\n",
    "        \"regularization_param\": setup[3],\n",
    "        \"batch_size\": setup[4],\n",
    "        \"epochs\": setup[5],\n",
    "        \"optimizer\": setup[6],\n",
    "        \"init_weight_seed\": setup[7],\n",
    "        \"activation\": setup[8]\n",
    "    }\n",
    "\n",
    "    relative_error_train_, relative_error_val_, my_net = run_single_configuration(setup_properties, torch.from_numpy(training_sets[1][:, :8]).type(torch.float32), torch.from_numpy(training_sets[1][:, -1].reshape(-1, 1)).type(torch.float32))\n",
    "    train_err_conf2.append(relative_error_train_)\n",
    "    val_err_conf2.append(relative_error_val_)\n",
    "\n",
    "train_err_conf2 = np.array(train_err_conf2)\n",
    "val_err_conf2 = np.array(val_err_conf2)"
   ]
  },
  {
   "cell_type": "markdown",
   "metadata": {
    "collapsed": false
   },
   "source": [
    "THIRD MODEL"
   ]
  },
  {
   "cell_type": "code",
   "execution_count": null,
   "metadata": {
    "collapsed": false,
    "pycharm": {
     "name": "#%%\n"
    }
   },
   "outputs": [],
   "source": [
    "hyperparameters_configurations = {\n",
    "        \"hidden_layers\": [2],\n",
    "        \"neurons\": [20, 25],\n",
    "        \"regularization_exp\": [0],\n",
    "        \"regularization_param\": [1e-4, 3e-4],\n",
    "        \"batch_size\": [16],\n",
    "        \"epochs\": [1500],\n",
    "        \"optimizer\": [\"ADAM\"], ###use LB but then you need to correct the batch size\n",
    "        \"init_weight_seed\": [567, 34],\n",
    "        \"activation\": [\"tanh\"]\n",
    "    }\n",
    "\n",
    "settings = list(itertools.product(*hyperparameters_configurations.values()))\n",
    "\n",
    "i = 0\n",
    "\n",
    "train_err_conf3 = list()\n",
    "val_err_conf3 = list()\n",
    "for set_num, setup in enumerate(settings):\n",
    "    print(\"###################################\", set_num, \"###################################\")\n",
    "    setup_properties = {\n",
    "        \"hidden_layers\": setup[0],\n",
    "        \"neurons\": setup[1],\n",
    "        \"regularization_exp\": setup[2],\n",
    "        \"regularization_param\": setup[3],\n",
    "        \"batch_size\": setup[4],\n",
    "        \"epochs\": setup[5],\n",
    "        \"optimizer\": setup[6],\n",
    "        \"init_weight_seed\": setup[7],\n",
    "        \"activation\": setup[8]\n",
    "    }\n",
    "\n",
    "    relative_error_train_, relative_error_val_, my_net = run_single_configuration(setup_properties, torch.from_numpy(training_sets[2][:, :8]).type(torch.float32), torch.from_numpy(training_sets[2][:, -1].reshape(-1, 1)).type(torch.float32))\n",
    "    train_err_conf3.append(relative_error_train_)\n",
    "    val_err_conf3.append(relative_error_val_)\n",
    "\n",
    "train_err_conf3 = np.array(train_err_conf3)\n",
    "val_err_conf3 = np.array(val_err_conf3)"
   ]
  },
  {
   "cell_type": "markdown",
   "metadata": {
    "collapsed": false
   },
   "source": [
    "CHOOSE THE MODEL"
   ]
  },
  {
   "cell_type": "code",
   "execution_count": null,
   "metadata": {
    "collapsed": false,
    "pycharm": {
     "name": "#%%\n"
    }
   },
   "outputs": [],
   "source": [
    "print(np.where(val_err_conf==min(val_err_conf)))\n",
    "print(np.where(val_err_conf2==min(val_err_conf2)))\n",
    "print(np.where(val_err_conf3==min(val_err_conf3)))"
   ]
  },
  {
   "cell_type": "markdown",
   "metadata": {
    "collapsed": false
   },
   "source": [
    "RUN MODEL 1"
   ]
  },
  {
   "cell_type": "code",
   "execution_count": 7,
   "metadata": {
    "collapsed": false,
    "pycharm": {
     "name": "#%%\n"
    }
   },
   "outputs": [
    {
     "name": "stdout",
     "output_type": "stream",
     "text": [
      "{'hidden_layers': 2, 'neurons': 30, 'regularization_exp': 2, 'regularization_param': 0, 'batch_size': 2560, 'epochs': 2000, 'optimizer': 'LBFGS', 'init_weight_seed': 567, 'activation': 'tanh'}\n",
      "Final Training Loss:  2.21e-06\n",
      "Final Validation Loss:  2.47e-06\n",
      "Relative Training Error:  0.3557519055902958 %\n",
      "Relative Validation Error:  0.37645292468369007 %\n"
     ]
    }
   ],
   "source": [
    "approximate_models = list()\n",
    "setup_properties = {\n",
    "        \"hidden_layers\": 2,\n",
    "        \"neurons\": 30,\n",
    "        \"regularization_exp\": 2,\n",
    "        \"regularization_param\": 0,\n",
    "        \"batch_size\": 2560,\n",
    "        \"epochs\": 2000,\n",
    "        \"optimizer\": \"LBFGS\",\n",
    "        \"init_weight_seed\": 567,\n",
    "        \"activation\": \"tanh\"\n",
    "    }\n",
    "\n",
    "relative_error_train_, relative_error_val_, my_network1 = run_single_configuration(setup_properties, torch.from_numpy(training_sets[0][:, :8]).type(torch.float32), torch.from_numpy(training_sets[0][:, -1].reshape(-1, 1)).type(torch.float32))\n",
    "approximate_models.append(my_network1)"
   ]
  },
  {
   "cell_type": "markdown",
   "metadata": {
    "collapsed": false
   },
   "source": [
    "RUN MODEL 2"
   ]
  },
  {
   "cell_type": "markdown",
   "metadata": {},
   "source": [
    "  \"hidden_layers\": 2,\n",
    "        \"neurons\": 25,\n",
    "        \"regularization_exp\": 2,\n",
    "        \"regularization_param\": 1e-4,\n",
    "        \"batch_size\": 64,\n",
    "        \"epochs\": 1000,\n",
    "        \"optimizer\": \"ADAM\",\n",
    "        \"init_weight_seed\": 567,\n",
    "        \"activation\": \"tanh\"\n",
    "    }"
   ]
  },
  {
   "cell_type": "code",
   "execution_count": 8,
   "metadata": {
    "collapsed": false,
    "pycharm": {
     "name": "#%%\n"
    }
   },
   "outputs": [
    {
     "name": "stdout",
     "output_type": "stream",
     "text": [
      "{'hidden_layers': 0, 'neurons': 25, 'regularization_exp': 2, 'regularization_param': 0.0001, 'batch_size': 64, 'epochs': 2000, 'optimizer': 'ADAM', 'init_weight_seed': 340, 'activation': 'tanh'}\n",
      "Simple linear regression\n",
      "Final Training Loss:  0.01570153\n",
      "Final Validation Loss:  0.01979657\n",
      "Relative Training Error:  28.349989652633667 %\n",
      "Relative Validation Error:  31.646350026130676 %\n"
     ]
    }
   ],
   "source": [
    "setup_properties = {\n",
    "        \"hidden_layers\": 0,\n",
    "        \"neurons\": 25,\n",
    "        \"regularization_exp\": 2,\n",
    "        \"regularization_param\": 1e-4,\n",
    "        \"batch_size\": 64,\n",
    "        \"epochs\": 2000,\n",
    "        \"optimizer\": \"ADAM\",\n",
    "        \"init_weight_seed\": 340,\n",
    "        \"activation\": \"tanh\"\n",
    "    }\n",
    "\n",
    "relative_error_train_, relative_error_val_, my_network2 = run_single_configuration(setup_properties, torch.from_numpy(training_sets[1][:, :8]).type(torch.float32), torch.from_numpy(training_sets[1][:, -1].reshape(-1, 1)).type(torch.float32))\n",
    "approximate_models.append(my_network2)"
   ]
  },
  {
   "cell_type": "markdown",
   "metadata": {
    "collapsed": false
   },
   "source": [
    "RUN MODEL 3"
   ]
  },
  {
   "cell_type": "markdown",
   "metadata": {},
   "source": [
    "        \"hidden_layers\": 8,\n",
    "        \"neurons\": 10,\n",
    "        \"regularization_exp\": 0,\n",
    "        \"regularization_param\": 0,\n",
    "        \"batch_size\": 16,\n",
    "        \"epochs\": 1000,\n",
    "        \"optimizer\":  \"ADAM\",\n",
    "        \"init_weight_seed\": 34,\n",
    "        \"activation\": \"relu\""
   ]
  },
  {
   "cell_type": "code",
   "execution_count": 9,
   "metadata": {
    "collapsed": false,
    "pycharm": {
     "name": "#%%\n"
    }
   },
   "outputs": [
    {
     "name": "stdout",
     "output_type": "stream",
     "text": [
      "{'hidden_layers': 1, 'neurons': 20, 'regularization_exp': 0, 'regularization_param': 0.0001, 'batch_size': 16, 'epochs': 2000, 'optimizer': 'ADAM', 'init_weight_seed': 567, 'activation': 'tanh'}\n",
      "Final Training Loss:  0.03177037\n",
      "Final Validation Loss:  0.04855589\n",
      "Relative Training Error:  23.816367983818054 %\n",
      "Relative Validation Error:  52.070796489715576 %\n"
     ]
    }
   ],
   "source": [
    "setup_properties = {\n",
    "        \"hidden_layers\": 1,\n",
    "        \"neurons\": 20,\n",
    "        \"regularization_exp\": 0,\n",
    "        \"regularization_param\": 1e-4,\n",
    "        \"batch_size\": 16,\n",
    "        \"epochs\": 2000,\n",
    "        \"optimizer\":  \"ADAM\",\n",
    "        \"init_weight_seed\": 567,\n",
    "        \"activation\": \"tanh\"\n",
    "    }\n",
    "\n",
    "relative_error_train_, relative_error_val_, my_network3 = run_single_configuration(setup_properties, torch.from_numpy(training_sets[2][:, :8]).type(torch.float32), torch.from_numpy(training_sets[2][:, -1].reshape(-1, 1)).type(torch.float32))\n",
    "approximate_models.append(my_network3)"
   ]
  },
  {
   "cell_type": "markdown",
   "metadata": {
    "collapsed": false
   },
   "source": [
    "ACCURACY"
   ]
  },
  {
   "cell_type": "code",
   "execution_count": 10,
   "metadata": {
    "collapsed": false,
    "pycharm": {
     "name": "#%%\n"
    }
   },
   "outputs": [
    {
     "name": "stdout",
     "output_type": "stream",
     "text": [
      "torch.Size([128, 8])\n",
      "torch.Size([32, 8])\n",
      "Relative Training Error:  0.2739792689681053 %\n",
      "Relative Validation Error:  0.35279830917716026 %\n"
     ]
    }
   ],
   "source": [
    "def predict_with_ml(list_models, inputs_, minima, maxima):\n",
    "    output_ = torch.zeros(inputs_.shape[0], 1)\n",
    "    output_ = output_ + list_models[0](inputs_)\n",
    "    for i in range(1,3):\n",
    "        output_ = output_ + list_models[i](inputs_)*(maxima[i-1]-minima[i-1]) + minima[i-1]\n",
    "    return output_\n",
    "\n",
    "\n",
    "x_predict_train = torch.from_numpy(np.delete(sobol, valid_index, 0)[:128,:8]).type(torch.float32)\n",
    "print(x_predict_train.shape)\n",
    "x_predict_valid = torch.from_numpy(data_validation[:,:8]).type(torch.float32)\n",
    "print(x_predict_valid.shape)\n",
    "y_predict_ml_train = predict_with_ml(approximate_models, x_predict_train ,minima_det, maxima_det).reshape(-1, 1)\n",
    "y_predict_ml_valid = predict_with_ml(approximate_models, x_predict_valid ,minima_det, maxima_det).reshape(-1, 1)\n",
    "\n",
    "real_val_train = torch.from_numpy(np.delete(data1601, valid_index, 0)[:,8]).type(torch.float32).reshape(-1, 1)\n",
    "real_val_valid = torch.from_numpy(data_validation[:,8]).type(torch.float32).reshape(-1, 1)\n",
    "relative_error_train = torch.mean((y_predict_ml_train - real_val_train) ** 2) / torch.mean(real_val_train ** 2)\n",
    "relative_error_valid = torch.mean((y_predict_ml_valid - real_val_valid) ** 2) / torch.mean(real_val_valid ** 2)\n",
    "print(\"Relative Training Error: \", relative_error_train.detach().numpy() ** 0.5 * 100, \"%\")\n",
    "print(\"Relative Validation Error: \", relative_error_valid.detach().numpy() ** 0.5 * 100, \"%\")"
   ]
  },
  {
   "cell_type": "markdown",
   "metadata": {
    "collapsed": false
   },
   "source": [
    "PLOT"
   ]
  },
  {
   "cell_type": "code",
   "execution_count": 13,
   "metadata": {
    "collapsed": false,
    "pycharm": {
     "name": "#%%\n"
    }
   },
   "outputs": [
    {
     "data": {
      "text/plain": [
       "Text(0, 0.5, 'temp 0')"
      ]
     },
     "execution_count": 13,
     "metadata": {},
     "output_type": "execute_result"
    },
    {
     "data": {
      "image/png": "[encoded data removed]",
      "text/plain": [
       "<Figure size 432x288 with 1 Axes>"
      ]
     },
     "metadata": {
      "needs_background": "light"
     },
     "output_type": "display_data"
    }
   ],
   "source": [
    "plt.grid(True, which=\"both\", ls=\":\")\n",
    "plt.scatter(real_val_train.detach(),y_predict_ml_train.detach(), s=20)\n",
    "plt.scatter(real_val_valid.detach(),y_predict_ml_valid.detach(), s=20)\n",
    "#train_pred_ml.detach()\n",
    "plt.xlabel(\"temp\")\n",
    "plt.ylabel(\"temp 0\")"
   ]
  },
  {
   "cell_type": "markdown",
   "metadata": {},
   "source": [
    "PREDICTIONS"
   ]
  },
  {
   "cell_type": "code",
   "execution_count": 14,
   "metadata": {},
   "outputs": [],
   "source": [
    "test_data = np.loadtxt('TestingData.txt', delimiter=' ')"
   ]
  },
  {
   "cell_type": "code",
   "execution_count": 15,
   "metadata": {},
   "outputs": [],
   "source": [
    "y_predict_test = predict_with_ml(approximate_models, torch.from_numpy(test_data).type(torch.float32) ,minima_det, maxima_det).reshape(-1, 1)\n"
   ]
  },
  {
   "cell_type": "markdown",
   "metadata": {},
   "source": [
    "PLOT THE PREDICTIONS"
   ]
  },
  {
   "cell_type": "markdown",
   "metadata": {},
   "source": [
    "SAVE THE PREDICTIONS IN A TXT FILE"
   ]
  },
  {
   "cell_type": "code",
   "execution_count": 17,
   "metadata": {},
   "outputs": [],
   "source": [
    "PATH=\"Task2\\Submission\"\n",
    "\n",
    "predictions_test=y_predict_test.detach().numpy()\n",
    "\n",
    "np.savetxt(\"angelo_gnazzo_secondo.txt\", predictions_test, fmt='%.18e', delimiter=' ', newline='\\n', header='', footer='', comments='# ', encoding=None)"
   ]
  }
 ],
 "metadata": {
  "kernelspec": {
   "display_name": "Python 3",
   "language": "python",
   "name": "python3"
  },
  "language_info": {
   "codemirror_mode": {
    "name": "ipython",
    "version": 3
   },
   "file_extension": ".py",
   "mimetype": "text/x-python",
   "name": "python",
   "nbconvert_exporter": "python",
   "pygments_lexer": "ipython3",
   "version": "3.10.4 (tags/v3.10.4:9d38120, Mar 23 2022, 23:13:41) [MSC v.1929 64 bit (AMD64)]"
  },
  "vscode": {
   "interpreter": {
    "hash": "2469a70536e4d2335a2ea8907942d0699c37342a371ac185bdb5b0aa6f073890"
   }
  }
 },
 "nbformat": 4,
 "nbformat_minor": 0
}
