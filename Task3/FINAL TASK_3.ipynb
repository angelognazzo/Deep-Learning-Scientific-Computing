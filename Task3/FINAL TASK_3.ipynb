{
 "cells": [
  {
   "cell_type": "code",
   "execution_count": 1,
   "metadata": {},
   "outputs": [],
   "source": [
    "import numpy as np\n",
    "import matplotlib.pyplot as plt\n",
    "import pandas as pd\n",
    "import torch\n",
    "import torch.nn as nn\n"
   ]
  },
  {
   "cell_type": "markdown",
   "metadata": {},
   "source": [
    "SOLUTION FOR THE TIME SERIES PREDICTION FOR THE SOLID TEMPERATURE TS0"
   ]
  },
  {
   "cell_type": "markdown",
   "metadata": {},
   "source": [
    "The training data is given as a txt file with 3 columns: t, tf0, ts0. Each observation is given at a given constant distance between consecutive time steps. LSTM is used to give predictions."
   ]
  },
  {
   "cell_type": "code",
   "execution_count": null,
   "metadata": {},
   "outputs": [],
   "source": [
    "torch.manual_seed(128) \n",
    "training_set = pd.read_csv('TrainingData.txt')\n",
    "training_set = training_set.iloc[:,2:3].values #we care only about the labels\n",
    "testing_set=pd.read_csv('TestingData.txt')\n",
    "print(training_set)\n",
    "plt.plot(training_set, label = 'Ts0') #true function, the data is noiseless\n",
    "plt.show()"
   ]
  },
  {
   "cell_type": "markdown",
   "metadata": {},
   "source": [
    "Functions to normalize the data"
   ]
  },
  {
   "cell_type": "code",
   "execution_count": 3,
   "metadata": {},
   "outputs": [],
   "source": [
    "def NormalizeData(data):\n",
    "    return (data - np.min(data)) / (np.max(data) - np.min(data))\n"
   ]
  },
  {
   "cell_type": "code",
   "execution_count": 4,
   "metadata": {},
   "outputs": [],
   "source": [
    "def NormGaussData(data):\n",
    "    return (data - np.mean(data)) / np.std(data)\n"
   ]
  },
  {
   "cell_type": "markdown",
   "metadata": {},
   "source": [
    "In order to make predictions a new dataset was created in a way so that what it was given were consecutive temperature measurements for each starting time index of a fixed-length sequence of points.\n"
   ]
  },
  {
   "cell_type": "markdown",
   "metadata": {},
   "source": [
    "We take sequences with 34 observations and based on them we predict the following one. \n",
    "(we use 34 because it's the length of Testing Data, the points we want to predict and it's the length of a full cycle of the temperature, time that it takes to start from low temperarure go up and come back)"
   ]
  },
  {
   "cell_type": "code",
   "execution_count": 5,
   "metadata": {},
   "outputs": [],
   "source": [
    "def sliding_windows(data, seq_length):\n",
    "    x = []\n",
    "    y = []\n",
    "\n",
    "    for i in range(len(data)-seq_length):\n",
    "        _x = data[i:(i+seq_length)]\n",
    "        _y = data[i+seq_length]\n",
    "        x.append(_x)\n",
    "        y.append(_y)\n",
    "\n",
    "    return np.array(x), np.array(y)\n",
    "\n",
    "seq_length=34"
   ]
  },
  {
   "cell_type": "code",
   "execution_count": null,
   "metadata": {},
   "outputs": [],
   "source": [
    "#test_size=1\n",
    "training_data=NormGaussData(training_set)\n",
    "meantf=np.mean(training_set[:,0])\n",
    "stdtf=np.std(training_set[:,0])\n",
    "#testingX=(testing_set-np.min(training_set)) / (np.max(training_set) - np.min(training_set))\n",
    "seq_len = seq_length #34\n",
    "x, y = sliding_windows(training_data, seq_len)\n",
    "#xtrain = x[:-test_size]\n",
    "#ytrain = y[:-test_size]\n",
    "#xtest = x[-test_size:]\n",
    "#ytest = y[-test_size:]\n",
    "print(len(x))\n",
    "#print(xtrain)\n",
    "\n",
    "train_size = int(len(y) * 1)\n",
    "print(train_size)"
   ]
  },
  {
   "cell_type": "code",
   "execution_count": 7,
   "metadata": {},
   "outputs": [],
   "source": [
    "dataX = (torch.Tensor(np.array(x))) #TODO: xtrain\n",
    "dataY = (torch.Tensor(np.array(y)))\n",
    "trainX = (torch.Tensor(np.array(x)))\n",
    "trainY = (torch.Tensor(np.array(y)))"
   ]
  },
  {
   "cell_type": "markdown",
   "metadata": {},
   "source": [
    "LSTM class for making predictions"
   ]
  },
  {
   "cell_type": "code",
   "execution_count": 8,
   "metadata": {},
   "outputs": [],
   "source": [
    "class LSTM(nn.Module):\n",
    "    \n",
    "    def __init__(self, num_classes, input_size, hidden_size, num_layers):\n",
    "        super(LSTM, self).__init__()\n",
    "\n",
    "        self.num_classes = num_classes\n",
    "        self.num_layers = num_layers\n",
    "        self.input_size = input_size\n",
    "        self.hidden_size = hidden_size\n",
    "        self.seq_length = seq_length\n",
    "\n",
    "        self.lstm = nn.LSTM(input_size=input_size, hidden_size=hidden_size,\n",
    "                            num_layers=num_layers, batch_first=True)\n",
    "\n",
    "        self.fc1 = nn.Linear(hidden_size, 18)  # 20 for first model!\n",
    "\n",
    "        self.fc = nn.Linear(18, num_classes)\n",
    "\n",
    "        self.relu = nn.ReLU()\n",
    "        self.tanh = nn.Tanh()\n",
    "\n",
    "    def forward(self, x):\n",
    "        h_0 = (torch.zeros(\n",
    "            self.num_layers, x.size(0), self.hidden_size))\n",
    "\n",
    "        c_0 = (torch.zeros(\n",
    "            self.num_layers, x.size(0), self.hidden_size))\n",
    "\n",
    "        # Propagate input through LSTM\n",
    "        xout, (h_out, c_out) = self.lstm(x, (h_0, c_0))  # al posto di c_out c'era _\n",
    "\n",
    "        h_out = h_out.view(-1, self.hidden_size)\n",
    "        c_out = c_out.view(-1, self.hidden_size)\n",
    "        out = self.relu(h_out)\n",
    "        # out=self.tanh(h_out)\n",
    "        out = self.fc1(h_out)\n",
    "        out = self.relu(out)  # relu\n",
    "        # out = self.tanh(out)\n",
    "        out = self.fc(out)  # Final Output\n",
    "        # future=30\n",
    "        \"\"\"for i in range(future):\n",
    "            # this only generates future predictions if we pass in future_preds>0\n",
    "            # mirrors the code above, using last output/prediction as input\n",
    "            ula, (h_out, c_out) = self.lstm(xout, (h_out, c_out))\n",
    "            out = self.fc1(h_out)\n",
    "            out = self.relu(out) #relu\n",
    "            out = self.fc(out)\n",
    "            out.append(out)\"\"\"\n",
    "\n",
    "        return out"
   ]
  },
  {
   "cell_type": "markdown",
   "metadata": {},
   "source": [
    "Hyperparameters for the model"
   ]
  },
  {
   "cell_type": "code",
   "execution_count": 9,
   "metadata": {},
   "outputs": [],
   "source": [
    "num_epochs = 3500  # 3200/3000\n",
    "learning_rate = 0.002  # 0.002\n",
    "\n",
    "input_size = 1\n",
    "hidden_size = 17  # 17\n",
    "num_layers = 1  # 1\n",
    "\n",
    "num_classes = 1"
   ]
  },
  {
   "cell_type": "code",
   "execution_count": 10,
   "metadata": {},
   "outputs": [],
   "source": [
    "lstm = LSTM(num_classes, input_size, hidden_size, num_layers)\n",
    "criterion = torch.nn.MSELoss()  # mean-squared error for regression\n",
    "optimizer = torch.optim.Adam(lstm.parameters(), lr=learning_rate)\n"
   ]
  },
  {
   "cell_type": "code",
   "execution_count": null,
   "metadata": {},
   "outputs": [],
   "source": [
    "# Train the model\n",
    "for epoch in range(num_epochs):\n",
    "    outputs = lstm(trainX)\n",
    "    # print(outputs.shape, trainY.shape)\n",
    "    optimizer.zero_grad()\n",
    "\n",
    "    # obtain the loss function\n",
    "    loss = criterion(outputs, trainY)\n",
    "\n",
    "    loss.backward()\n",
    "\n",
    "    optimizer.step()\n",
    "    if epoch % 100 == 0:\n",
    "        print(\"Epoch: %d, loss: %1.5f\" % (epoch, loss.item()))"
   ]
  },
  {
   "cell_type": "code",
   "execution_count": 12,
   "metadata": {},
   "outputs": [
    {
     "data": {
      "text/plain": [
       "LSTM(\n",
       "  (lstm): LSTM(1, 17, batch_first=True)\n",
       "  (fc1): Linear(in_features=17, out_features=18, bias=True)\n",
       "  (fc): Linear(in_features=18, out_features=1, bias=True)\n",
       "  (relu): ReLU()\n",
       "  (tanh): Tanh()\n",
       ")"
      ]
     },
     "execution_count": 12,
     "metadata": {},
     "output_type": "execute_result"
    }
   ],
   "source": [
    "additional_size=0\n",
    "predict = np.zeros(len(testing_set)+additional_size) #np.zeros(test_size) #test_size\n",
    "current_batch = torch.from_numpy(training_data[-seq_length:,:].reshape(1, seq_length, 1)).float()\n",
    "#current_batch=dataX\n",
    "count = 0\n",
    "for i in range(len(testing_set)+additional_size): #test_size\n",
    "    lstm.eval()\n",
    "    with torch.no_grad():\n",
    "      new_data = lstm(current_batch)\n",
    "    predict[count] = (new_data.data.numpy())*(np.std(training_set))+np.mean(training_set)\n",
    "    count += 1\n",
    "    current_batch = torch.cat((current_batch[:, 1:, :], new_data.reshape(1, 1, 1)), dim=1)\n",
    "#print(predict)\n",
    "\n",
    "lstm.eval()"
   ]
  },
  {
   "cell_type": "code",
   "execution_count": 13,
   "metadata": {},
   "outputs": [
    {
     "data": {
      "image/png": "[encoded data removed]",
      "text/plain": [
       "<Figure size 432x288 with 1 Axes>"
      ]
     },
     "metadata": {
      "needs_background": "light"
     },
     "output_type": "display_data"
    }
   ],
   "source": [
    "train_predict = lstm(dataX)\n",
    "\n",
    "data_predict = train_predict.data.numpy()\n",
    "dataY_plot = dataY.data.numpy()\n",
    "\n",
    "data_predict = data_predict*(np.std(training_set))+np.mean(training_set)\n",
    "dataY_plot = dataY_plot*(np.std(training_set))+np.mean(training_set)\n",
    "y=torch.cat([torch.from_numpy(data_predict), torch.from_numpy(predict).reshape(-1,1)], 0)\n",
    "y_plot=y.numpy()\n",
    "#plt.axvline(x=train_size, c='r', linestyle='--')\n",
    "\n",
    "plt.plot(dataY_plot)\n",
    "plt.plot(y)\n",
    "plt.suptitle('Time-Series Prediction')\n",
    "plt.show()"
   ]
  }
 ],
 "metadata": {
  "kernelspec": {
   "display_name": "Python 3.9.7 ('base')",
   "language": "python",
   "name": "python3"
  },
  "language_info": {
   "codemirror_mode": {
    "name": "ipython",
    "version": 3
   },
   "file_extension": ".py",
   "mimetype": "text/x-python",
   "name": "python",
   "nbconvert_exporter": "python",
   "pygments_lexer": "ipython3",
   "version": "3.9.7 (default, Sep 16 2021, 16:59:28) [MSC v.1916 64 bit (AMD64)]"
  },
  "orig_nbformat": 4,
  "vscode": {
   "interpreter": {
    "hash": "88279d2366fe020547cde40dd65aa0e3aa662a6ec1f3ca12d88834876c85e1a6"
   }
  }
 },
 "nbformat": 4,
 "nbformat_minor": 2
}
