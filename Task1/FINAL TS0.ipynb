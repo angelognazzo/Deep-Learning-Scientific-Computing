{
 "cells": [
  {
   "cell_type": "code",
   "execution_count": 1,
   "metadata": {},
   "outputs": [
    {
     "name": "stderr",
     "output_type": "stream",
     "text": [
      "d:\\Mathematics\\2021-2022\\Deep Learning in Scientific Computing\\Projects\\Project1\\Project1\\Parte 1\\.venv\\lib\\site-packages\\tqdm\\auto.py:22: TqdmWarning: IProgress not found. Please update jupyter and ipywidgets. See https://ipywidgets.readthedocs.io/en/stable/user_install.html\n",
      "  from .autonotebook import tqdm as notebook_tqdm\n"
     ]
    }
   ],
   "source": [
    "# Import packages\n",
    "import torch\n",
    "import torch.nn as nn\n",
    "import torch.optim as optim\n",
    "import torch.utils\n",
    "import torch.utils.data\n",
    "from torch.utils.data import DataLoader\n",
    "import matplotlib.pyplot as plt\n",
    "import numpy as np\n",
    "import itertools\n",
    "import pandas as pd\n",
    "import random\n",
    "from sklearn.linear_model import LinearRegression\n",
    "from scipy.signal import savgol_filter"
   ]
  },
  {
   "cell_type": "code",
   "execution_count": 2,
   "metadata": {},
   "outputs": [],
   "source": [
    "# Set random seed for reproducibility\n",
    "torch.manual_seed(42)\n",
    "np.random.seed(42)"
   ]
  },
  {
   "cell_type": "code",
   "execution_count": 3,
   "metadata": {},
   "outputs": [],
   "source": [
    "class NeuralNet(nn.Module):\n",
    "\n",
    "    def __init__(self,\n",
    "                 input_dimension,\n",
    "                 output_dimension,\n",
    "                 n_hidden_layers,\n",
    "                 neurons,\n",
    "                 regularization_param,\n",
    "                 regularization_exp,\n",
    "                 retrain_seed,\n",
    "                 activation_name):\n",
    "\n",
    "        super(NeuralNet, self).__init__()\n",
    "        # Number of input dimensions n\n",
    "        self.input_dimension = input_dimension\n",
    "        # Number of output dimensions m\n",
    "        self.output_dimension = output_dimension\n",
    "        # Number of neurons per layer\n",
    "        self.neurons = neurons\n",
    "        # Number of hidden layers\n",
    "        self.n_hidden_layers = n_hidden_layers\n",
    "        # Activation function\n",
    "        self.activation_name = activation_name\n",
    "        self.activation = self.get_activation(activation_name)\n",
    "        # Regularization parameter\n",
    "        self.regularization_param = regularization_param\n",
    "        # Regularization exponent\n",
    "        self.regularization_exp = regularization_exp\n",
    "        # Random seed for weight initialization\n",
    "        self.retrain_seed = retrain_seed\n",
    "\n",
    "        if self.n_hidden_layers != 0:\n",
    "            self.input_layer = nn.Linear(self.input_dimension, self.neurons)\n",
    "            self.hidden_layers = nn.ModuleList(\n",
    "                [nn.Linear(self.neurons, self.neurons) for _ in range(n_hidden_layers - 1)])\n",
    "            self.output_layer = nn.Linear(self.neurons, self.output_dimension)\n",
    "\n",
    "        else:\n",
    "            print(\"Simple linear regression\")\n",
    "            self.linear_regression_layer = nn.Linear(self.input_dimension, self.output_dimension)\n",
    "\n",
    "        self.init_xavier()\n",
    "\n",
    "    def init_xavier(self):\n",
    "        torch.manual_seed(self.retrain_seed)\n",
    "\n",
    "        def init_weights(m):\n",
    "            if type(m) == nn.Linear and m.weight.requires_grad and m.bias.requires_grad:\n",
    "                if self.activation_name in ['tanh', 'relu']:\n",
    "                    gain = nn.init.calculate_gain(self.activation_name)\n",
    "                else:\n",
    "                    gain = 1\n",
    "                torch.nn.init.xavier_uniform_(m.weight, gain=gain)\n",
    "                m.bias.data.fill_(0)\n",
    "\n",
    "        self.apply(init_weights)\n",
    "\n",
    "    def regularization(self):\n",
    "        reg_loss = 0\n",
    "        for name, param in self.named_parameters():\n",
    "            if 'weight' in name:\n",
    "                reg_loss = reg_loss + torch.norm(param, self.regularization_exp)\n",
    "        return reg_loss\n",
    "\n",
    "    def get_activation(self, activation_name):\n",
    "        if activation_name in ['tanh']:\n",
    "            return nn.Tanh()\n",
    "        elif activation_name in ['relu']:\n",
    "            return nn.ReLU(inplace=True)\n",
    "        elif activation_name in ['lrelu']:\n",
    "            return nn.LeakyReLU(inplace=True)\n",
    "        elif activation_name in ['sigmoid']:\n",
    "            return nn.Sigmoid()\n",
    "        elif activation_name in ['softplus']:\n",
    "            return nn.Softplus(beta=4)\n",
    "        elif activation_name in ['celu']:\n",
    "            return nn.CELU()\n",
    "        else:\n",
    "            raise ValueError('Unknown activation function')\n",
    "\n",
    "    def forward(self, x):\n",
    "        # The forward function performs the set of affine and non-linear transformations defining the network\n",
    "        # (see equation above)\n",
    "        if self.n_hidden_layers != 0:\n",
    "            x = self.activation(self.input_layer(x))\n",
    "            for k, l in enumerate(self.hidden_layers):\n",
    "                x = self.activation(l(x))\n",
    "            return self.output_layer(x)\n",
    "        else:\n",
    "            return self.linear_regression_layer(x)"
   ]
  },
  {
   "cell_type": "code",
   "execution_count": 4,
   "metadata": {},
   "outputs": [],
   "source": [
    "def run_single_configuration(conf_dict, x_, y_):\n",
    "    # Set random seed for reproducibility\n",
    "    torch.manual_seed(42)\n",
    "    np.random.seed(42)\n",
    "\n",
    "    print(conf_dict)\n",
    "\n",
    "    # Get the configuration to test\n",
    "    opt_type = conf_dict[\"optimizer\"]\n",
    "    n_epochs = conf_dict[\"epochs\"]\n",
    "    n_hidden_layers = conf_dict[\"hidden_layers\"]\n",
    "    neurons = conf_dict[\"neurons\"]\n",
    "    regularization_param = conf_dict[\"regularization_param\"]\n",
    "    regularization_exp = conf_dict[\"regularization_exp\"]\n",
    "    retrain_seed = conf_dict[\"init_weight_seed\"]\n",
    "    batch_size = conf_dict[\"batch_size\"]\n",
    "    activation = conf_dict[\"activation\"]\n",
    "\n",
    "    validation_size = int(0 * x_.shape[0] / 100)\n",
    "    training_size = x_.shape[0] - validation_size\n",
    "    x_train = x_[:training_size, :]\n",
    "    y_train = y_[:training_size, :]\n",
    "\n",
    "    x_val = x_[training_size:, :]\n",
    "    y_val = y_[training_size:, :]\n",
    "\n",
    "    training_set = DataLoader(torch.utils.data.TensorDataset(x_train, y_train), batch_size=batch_size, shuffle=True)\n",
    "\n",
    "    my_network = NeuralNet(input_dimension=x_.shape[1],\n",
    "                           output_dimension=y_.shape[1],\n",
    "                           n_hidden_layers=n_hidden_layers,\n",
    "                           neurons=neurons,\n",
    "                           regularization_param=regularization_param,\n",
    "                           regularization_exp=regularization_exp,\n",
    "                           retrain_seed=retrain_seed,\n",
    "                           activation_name=activation)\n",
    "\n",
    "    if opt_type == \"ADAM\":\n",
    "        optimizer_ = optim.Adam(my_network.parameters(), lr=0.005)\n",
    "    elif opt_type == \"LBFGS\":\n",
    "        optimizer_ = optim.LBFGS(my_network.parameters(), lr=0.1, max_iter=1, max_eval=50000, tolerance_change=1.0 * np.finfo(float).eps)\n",
    "    else:\n",
    "        raise ValueError(\"Optimizer not recognized\")\n",
    "\n",
    "    history = fit(my_network, training_set, x_val, y_val, n_epochs, optimizer_, p=2, verbose=False)\n",
    "\n",
    "    y_val = y_val.reshape(-1, )\n",
    "    y_train = y_train.reshape(-1, )\n",
    "\n",
    "    #y_test_pred = my_network(x_test).reshape(-1, )\n",
    "    y_val_pred = my_network(x_val).reshape(-1, )\n",
    "    y_train_pred = my_network(x_train).reshape(-1, )\n",
    "\n",
    "    # Compute the relative training error\n",
    "    relative_error_train = torch.mean((y_train_pred - y_train) ** 2) / torch.mean(y_train ** 2)\n",
    "    print(\"Relative Training Error: \", relative_error_train.detach().numpy() ** 0.5 * 100, \"%\")\n",
    "\n",
    "    # Compute the relative validation error\n",
    "    relative_error_val = torch.mean((y_val_pred - y_val) ** 2) / torch.mean(y_val ** 2)\n",
    "    print(\"Relative Validation Error: \", relative_error_val.detach().numpy() ** 0.5 * 100, \"%\")\n",
    "\n",
    "    return relative_error_train.item(), relative_error_val.item(), my_network"
   ]
  },
  {
   "cell_type": "code",
   "execution_count": 5,
   "metadata": {},
   "outputs": [],
   "source": [
    "def fit(model, training_set, x_validation_, y_validation_, num_epochs, optimizer, p, verbose=True):\n",
    "    history = [[], []]\n",
    "    regularization_param = model.regularization_param\n",
    "\n",
    "    # Loop over epochs\n",
    "    for epoch in range(num_epochs):\n",
    "        if verbose: print(\"################################ \", epoch, \" ################################\")\n",
    "\n",
    "        running_loss = list([0])\n",
    "\n",
    "        # Loop over batches\n",
    "        for j, (x_train_, u_train_) in enumerate(training_set):\n",
    "            def closure():\n",
    "                # zero the parameter gradients\n",
    "                optimizer.zero_grad()\n",
    "                # forward + backward + optimize\n",
    "                u_pred_ = model(x_train_)\n",
    "                loss_u = torch.mean((u_pred_.reshape(-1, ) - u_train_.reshape(-1, )) ** p)\n",
    "                loss_reg = model.regularization()\n",
    "                loss = loss_u + regularization_param * loss_reg\n",
    "                loss.backward()\n",
    "                # Compute average training loss over batches for the current epoch\n",
    "                running_loss[0] += loss.item() / len(training_set)\n",
    "                return loss\n",
    "\n",
    "            optimizer.step(closure=closure)\n",
    "\n",
    "        y_validation_pred_ = model(x_validation_)\n",
    "        validation_loss = torch.mean((y_validation_pred_.reshape(-1, ) - y_validation_.reshape(-1, )) ** p).item()\n",
    "        history[0].append(running_loss[0])\n",
    "        history[1].append(validation_loss)\n",
    "\n",
    "        if verbose:\n",
    "            print('Training Loss: ', np.round(running_loss[0], 8))\n",
    "            print('Validation Loss: ', np.round(validation_loss, 8))\n",
    "\n",
    "    print('Final Training Loss: ', np.round(history[0][-1], 8))\n",
    "    print('Final Validation Loss: ', np.round(history[1][-1], 8))\n",
    "    return history"
   ]
  },
  {
   "cell_type": "markdown",
   "metadata": {},
   "source": [
    "LOAD THE DATA"
   ]
  },
  {
   "cell_type": "code",
   "execution_count": 6,
   "metadata": {},
   "outputs": [],
   "source": [
    "data = np.loadtxt(\"TrainingData.txt\", delimiter=',', skiprows=1)\n",
    "t = data[:,0]\n",
    "Tf0 = data[:,1]\n",
    "Ts0 = data[:,2]\n",
    "\n",
    "minima = []\n",
    "maxima = []\n",
    "means = []\n",
    "stds = []\n",
    "for i in range(3):\n",
    "    means.append((np.mean(data[:,i])))\n",
    "    stds.append((np.std(data[:,i])))\n",
    "    minima.append(min(data[:,i]))\n",
    "    maxima.append(max(data[:,i]))\n",
    "\n",
    "#t_train = (t - minima[0])/(maxima[0] - minima[0])\n",
    "#Tf0_train = (Tf0 - minima[1])/(maxima[1] - minima[1])\n",
    "#Ts0_train = (Ts0 - minima[2])/(maxima[2] - minima[2])\n",
    "\n",
    "t_train = (t - means[0])/stds[0]\n",
    "Tf0_train = (Tf0 - means[1])/stds[1]\n",
    "Ts0_train = (Ts0 - means[2])/stds[2]\n",
    "\n",
    "# TO VALIDATE\n",
    "data3 = np.loadtxt(\"TrainingData3.txt\", delimiter = ',', skiprows=1)\n",
    "t3 = data3[:,0]\n",
    "Ts03 = data3[:,2]\n",
    "t3_pred =(t3 - means[0])/stds[0]"
   ]
  },
  {
   "cell_type": "markdown",
   "metadata": {},
   "source": [
    "DENOISING OF THE DATASET FOR TS0"
   ]
  },
  {
   "cell_type": "code",
   "execution_count": 7,
   "metadata": {},
   "outputs": [],
   "source": [
    "high_data = []\n",
    "#0 is Ts0\n",
    "\n",
    "for i in range(len(t)):\n",
    "    if Ts0[i] > 860:\n",
    "        high_data.append([t[i], Ts0[i],  0])\n",
    "    if Tf0[i] > 860:\n",
    "        high_data.append([t[i], Tf0[i], 1])\n",
    "\n",
    "high_data = np.array(high_data)"
   ]
  },
  {
   "cell_type": "code",
   "execution_count": 8,
   "metadata": {},
   "outputs": [],
   "source": [
    "mean = np.mean(high_data[:,1])\n",
    "assemble_new = []\n",
    "for i in range(high_data.shape[0]):\n",
    "    scarto = high_data[i,1] - mean\n",
    "    new_scarto = scarto/50\n",
    "    assemble_new.append([high_data[i,0], mean + new_scarto, high_data[i,2]])\n",
    "\n",
    "assemble_new = np.array((assemble_new))"
   ]
  },
  {
   "cell_type": "code",
   "execution_count": 10,
   "metadata": {},
   "outputs": [
    {
     "name": "stdout",
     "output_type": "stream",
     "text": [
      "(265,)\n",
      "index 122\n",
      "count 122\n"
     ]
    }
   ],
   "source": [
    "Ts0_denoisy = np.copy(Ts0)\n",
    "print(Ts0_denoisy.shape)\n",
    "index = np.where(assemble_new[:,2] == 0)\n",
    "count = 0\n",
    "print(\"index\", len(index[0]))\n",
    "for i in index[0]:\n",
    "    for j in range(len(t)):\n",
    "        if abs(assemble_new[i,0] - t[j]) < 1e-5:\n",
    "            Ts0_denoisy[j] = assemble_new[i,1]\n",
    "            count += 1\n",
    "\n",
    "print(\"count\", count)"
   ]
  },
  {
   "cell_type": "markdown",
   "metadata": {},
   "source": [
    "FIT A FIRST NN"
   ]
  },
  {
   "cell_type": "code",
   "execution_count": 11,
   "metadata": {},
   "outputs": [],
   "source": [
    "Ts0_denoisy_train=(Ts0_denoisy- means[2])/stds[2]"
   ]
  },
  {
   "cell_type": "code",
   "execution_count": 12,
   "metadata": {},
   "outputs": [
    {
     "name": "stdout",
     "output_type": "stream",
     "text": [
      "################################### 0 ###################################\n",
      "{'hidden_layers': 10, 'neurons': 40, 'regularization_exp': 2, 'regularization_param': 0, 'batch_size': 265, 'epochs': 10000, 'optimizer': 'ADAM', 'init_weight_seed': 365, 'activation': 'relu'}\n",
      "Final Training Loss:  0.00205285\n",
      "Final Validation Loss:  nan\n",
      "Relative Training Error:  5.364504456520081 %\n",
      "Relative Validation Error:  nan %\n"
     ]
    }
   ],
   "source": [
    "hyperparameters_configurations = {\n",
    "        \"hidden_layers\": [10],\n",
    "        \"neurons\": [40],\n",
    "        \"regularization_exp\": [2],\n",
    "        \"regularization_param\": [0],\n",
    "        \"batch_size\": [265],\n",
    "        \"epochs\": [10000],\n",
    "        \"optimizer\": [\"ADAM\"],\n",
    "        \"init_weight_seed\": [365],\n",
    "        \"activation\": [\"relu\"]\n",
    "    }\n",
    "\n",
    "settings = list(itertools.product(*hyperparameters_configurations.values()))\n",
    "\n",
    "i = 0\n",
    "\n",
    "my_networks = list()\n",
    "train_err_conf = list()\n",
    "val_err_conf = list()\n",
    "for set_num, setup in enumerate(settings):\n",
    "    print(\"###################################\", set_num, \"###################################\")\n",
    "    setup_properties = {\n",
    "        \"hidden_layers\": setup[0],\n",
    "        \"neurons\": setup[1],\n",
    "        \"regularization_exp\": setup[2],\n",
    "        \"regularization_param\": setup[3],\n",
    "        \"batch_size\": setup[4],\n",
    "        \"epochs\": setup[5],\n",
    "        \"optimizer\": setup[6],\n",
    "        \"init_weight_seed\": setup[7],\n",
    "        \"activation\": setup[8]\n",
    "    }\n",
    "\n",
    "    relative_error_train_, relative_error_val_, my_net = run_single_configuration(setup_properties, torch.from_numpy(t_train.reshape(-1,1)).type(torch.float32), torch.from_numpy(Ts0_denoisy_train).reshape(-1,1).type(torch.float32))\n",
    "    train_err_conf.append(relative_error_train_)\n",
    "    val_err_conf.append(relative_error_val_)\n",
    "    my_networks.append(my_net)\n",
    "\n",
    "train_err_conf = np.array(train_err_conf)\n",
    "val_err_conf = np.array(val_err_conf)\n",
    "my_networks = np.array(my_networks)"
   ]
  },
  {
   "cell_type": "code",
   "execution_count": 13,
   "metadata": {},
   "outputs": [
    {
     "data": {
      "text/plain": [
       "[<matplotlib.lines.Line2D at 0x1f06d4ec520>]"
      ]
     },
     "execution_count": 13,
     "metadata": {},
     "output_type": "execute_result"
    },
    {
     "data": {
      "image/png": "[encoded data removed]",
      "text/plain": [
       "<Figure size 1080x720 with 1 Axes>"
      ]
     },
     "metadata": {
      "needs_background": "light"
     },
     "output_type": "display_data"
    }
   ],
   "source": [
    "t3_train=(t3-means[0])/stds[0]\n",
    "y_pred=my_net(torch.from_numpy(t3_train.reshape(-1,1)).type(torch.float32))*stds[2]+means[2]\n",
    "plt.figure(figsize=(15,10))\n",
    "plt.plot(t3, Ts03)\n",
    "plt.plot(t3,y_pred.detach().numpy())"
   ]
  },
  {
   "cell_type": "code",
   "execution_count": 13,
   "metadata": {},
   "outputs": [
    {
     "name": "stdout",
     "output_type": "stream",
     "text": [
      "noiseless error:  12.392484996221397\n"
     ]
    }
   ],
   "source": [
    "x_3 = (t3[100:]-means[0])/stds[0]\n",
    "y_pred=my_net(torch.from_numpy(x_3.reshape(-1,1)).type(torch.float32))*stds[2]+means[2]\n",
    "y_3 = (Ts03[100:])#-meany)/stdy\n",
    "\n",
    "print('noiseless error: ',(np.mean((y_pred.detach().numpy()-y_3)**2)/np.mean(y_3**2))**0.5*100)"
   ]
  },
  {
   "cell_type": "markdown",
   "metadata": {},
   "source": [
    "XGBoost "
   ]
  },
  {
   "cell_type": "code",
   "execution_count": 14,
   "metadata": {},
   "outputs": [],
   "source": [
    "import xgboost as xgb\n",
    "from sklearn.model_selection import train_test_split\n",
    "\n",
    "train_set1 = pd.DataFrame({'t':t_train,'ts0':Ts0_denoisy_train})\n",
    "\n"
   ]
  },
  {
   "cell_type": "code",
   "execution_count": 15,
   "metadata": {},
   "outputs": [],
   "source": [
    "X, y = train_set1.iloc[:,:-1],train_set1.iloc[:,-1]\n",
    "data_dmatrix = xgb.DMatrix(data=X,label=y)\n",
    "X_train, X_test, y_train, y_test = train_test_split(X, y, test_size=0.2, random_state=123)\n",
    "xg_reg = xgb.XGBRegressor(objective ='reg:linear', colsample_bytree = 0.5, learning_rate = 0.25, subsample = 1,\n",
    "                max_depth = 4, gamma = 0 , alpha = 0.1, reg_lambda = 1, n_estimators = 100)\n"
   ]
  },
  {
   "cell_type": "code",
   "execution_count": 16,
   "metadata": {},
   "outputs": [
    {
     "name": "stdout",
     "output_type": "stream",
     "text": [
      "[15:06:31] WARNING: C:/Users/Administrator/workspace/xgboost-win64_release_1.6.0/src/objective/regression_obj.cu:203: reg:linear is now deprecated in favor of reg:squarederror.\n"
     ]
    }
   ],
   "source": [
    "xg_reg.fit(X,y)\n",
    "preds = xg_reg.predict(X)"
   ]
  },
  {
   "cell_type": "code",
   "execution_count": 17,
   "metadata": {},
   "outputs": [
    {
     "data": {
      "image/png": "[encoded data removed]",
      "text/plain": [
       "<Figure size 1080x720 with 1 Axes>"
      ]
     },
     "metadata": {
      "needs_background": "light"
     },
     "output_type": "display_data"
    }
   ],
   "source": [
    "x_lin = np.linspace(-2,2,2000)\n",
    "x_lin_pd = pd.DataFrame({'t':x_lin})\n",
    "pred_x_lin = xg_reg.predict(x_lin_pd)\n",
    "pred_x_lin = pred_x_lin*stds[2]+means[2]\n",
    "plt.figure(figsize=(15, 10))\n",
    "plt.scatter(data3[:,0],data3[:,2],s=2)\n",
    "plt.scatter(x_lin*stds[0]+means[0],pred_x_lin,c='r',linewidth=.5)\n",
    "plt.show()"
   ]
  },
  {
   "cell_type": "code",
   "execution_count": 18,
   "metadata": {},
   "outputs": [
    {
     "name": "stdout",
     "output_type": "stream",
     "text": [
      "noiseless error:  1.1432678564237078\n"
     ]
    }
   ],
   "source": [
    "x_3 = (data3[4:,0]-means[0])/stds[0]\n",
    "y_3 = (data3[4:,2])#-meany)/stdy\n",
    "newdata1 = pd.DataFrame({'t':x_3,'ts0':y_3})\n",
    "X, y = newdata1.iloc[:,:-1],newdata1.iloc[:,-1]\n",
    "# Saving feature names for later use\n",
    "feature_list = list(X.columns)\n",
    "# Convert to numpy array\n",
    "features = np.array(X)\n",
    "preds = xg_reg.predict(features)\n",
    "preds = preds*stds[2]+means[2]\n",
    "\n",
    "\n",
    "print('noiseless error: ',(np.mean((preds-y)**2)/np.mean(y**2))**0.5*100)\n"
   ]
  },
  {
   "cell_type": "markdown",
   "metadata": {},
   "source": [
    "LINEAR REGRESSION ON THE FIRST PART OF THE DATA"
   ]
  },
  {
   "cell_type": "code",
   "execution_count": 19,
   "metadata": {},
   "outputs": [],
   "source": [
    "#DATA NEEDED FOR LIN REG\n",
    "\n",
    "t = (data[:, 0])#-meanx)/stdx\n",
    "Ts0 = (data[:, 2])#-meany2)/stdy2\n",
    "t3 = (data3[:, 0])#-meanx)/stdx\n",
    "Ts03 = (data3[:, 2])#-meany2)/stdy2"
   ]
  },
  {
   "cell_type": "markdown",
   "metadata": {},
   "source": [
    "INDEX WHERE I WANT TO DO LIN REG"
   ]
  },
  {
   "cell_type": "code",
   "execution_count": 20,
   "metadata": {},
   "outputs": [],
   "source": [
    "index = np.where(data[:,0] < 5600)\n",
    "index3 = np.where(data3[:,0] < 4000)"
   ]
  },
  {
   "cell_type": "markdown",
   "metadata": {},
   "source": [
    "DATA FOR LIN REG"
   ]
  },
  {
   "cell_type": "code",
   "execution_count": 21,
   "metadata": {},
   "outputs": [],
   "source": [
    "t_linear = np.concatenate([t[index[0]], t3[index3[0]]], 0).reshape(-1, 1)\n",
    "Ts0_linear = np.concatenate([Ts0[index[0]], Ts03[index3[0]]], 0).reshape(-1, 1)\n"
   ]
  },
  {
   "cell_type": "code",
   "execution_count": 22,
   "metadata": {},
   "outputs": [
    {
     "data": {
      "text/plain": [
       "LinearRegression()"
      ]
     },
     "execution_count": 22,
     "metadata": {},
     "output_type": "execute_result"
    }
   ],
   "source": [
    "LR = LinearRegression()\n",
    "LR.fit(t_linear, Ts0_linear)"
   ]
  },
  {
   "cell_type": "code",
   "execution_count": 23,
   "metadata": {},
   "outputs": [],
   "source": [
    "t_predict = np.linspace(0, 4000, 20)\n",
    "Ts0_predict = LR.predict(t_predict.reshape(-1, 1))#*stdy2+meany2\n"
   ]
  },
  {
   "cell_type": "code",
   "execution_count": 24,
   "metadata": {},
   "outputs": [
    {
     "data": {
      "image/png": "[encoded data removed]",
      "text/plain": [
       "<Figure size 432x288 with 1 Axes>"
      ]
     },
     "metadata": {
      "needs_background": "light"
     },
     "output_type": "display_data"
    }
   ],
   "source": [
    "plt.scatter(t3, Ts03)\n",
    "plt.plot(t_predict, Ts0_predict)\n",
    "plt.show()\n",
    "#OK IT WORKS\n"
   ]
  },
  {
   "cell_type": "markdown",
   "metadata": {},
   "source": [
    "LET'S MAKE AN ENSEMBLE"
   ]
  },
  {
   "cell_type": "code",
   "execution_count": 24,
   "metadata": {},
   "outputs": [],
   "source": [
    "def get_prediction(X, Xtorch):\n",
    "    features = np.array(X)\n",
    "    predxg = xg_reg.predict(features)*stds[2]+means[2]\n",
    "    predxg = savgol_filter(predxg, 200, 1)\n",
    "    predxg = torch.from_numpy(predxg).unsqueeze(1)\n",
    "    #Xtorch = torch.from_numpy(X)\n",
    "    #predGP = GPonlyx.predict(Xtorch.float())[0]*stdy1+meany1 #NB: in this code model is just the GP!\n",
    "    #predGP=torch.from_numpy(predGP).unsqueeze(1)\n",
    "    predNN = my_net(Xtorch.float()) * stds[2] + means[2]  # NB: in this code model is just the GP!\n",
    "    #predNN=(predNN).unsqueeze(1)\n",
    "    return 0.67*predxg+0.33*predNN #0.55,0.45"
   ]
  },
  {
   "cell_type": "code",
   "execution_count": 31,
   "metadata": {},
   "outputs": [],
   "source": [
    "def get_prediction(X, Xtorch, alpha):\n",
    "    features = np.array(X)\n",
    "    predxg = xg_reg.predict(features)*stds[2]+means[2]\n",
    "    predxg = savgol_filter(predxg, 200, 1)\n",
    "    predxg = torch.from_numpy(predxg).unsqueeze(1)\n",
    "    #Xtorch = torch.from_numpy(X)\n",
    "    #predGP = GPonlyx.predict(Xtorch.float())[0]*stdy1+meany1 #NB: in this code model is just the GP!\n",
    "    #predGP=torch.from_numpy(predGP).unsqueeze(1)\n",
    "    predNN = my_net(Xtorch.float()) * stds[2] + means[2]  # NB: in this code model is just the GP!\n",
    "    #predNN=(predNN).unsqueeze(1)\n",
    "    return alpha*predxg+(1-alpha)*predNN #0.55,0.45\n",
    "\n",
    "\n",
    "from sklearn.ensemble import RandomForestRegressor\n",
    "\n",
    "RF3=RandomForestRegressor()\n",
    "R3=RF3.fit(t3.reshape(-1,1), Ts03)\n",
    "pred_test=R3.predict(testdata1).reshape(-1,1)\n",
    "\n",
    "x_linreg = testdata1[indextest[0]]\n",
    "y_linreg = LR.predict(x_linreg.reshape(-1,1))\n",
    "x_train = th_delete(testdata1.reshape(-1, 1), indextest[0]).flatten()\n",
    "#y_train = th_delete(Ts0.reshape(-1, 1), indextest[0])\n",
    "\n",
    "x_train = (x_train-means[0])/stds[0]\n",
    "\n",
    "x = x_train\n",
    "trainfake1 = pd.DataFrame({'t':x})\n",
    "x=torch.from_numpy(np.asarray(x)).reshape(-1,1)\n",
    "\n",
    "error=[]\n",
    "for alpha in np.linspace(0,1, 100):\n",
    "    y_pred = get_prediction(trainfake1,x,alpha).reshape(1,-1)\n",
    "    y_pred = torch.cat([torch.from_numpy(y_linreg).reshape(-1,1),y_pred.reshape(-1,1)],0).reshape(-1,1)\n",
    "    error.append([np.sqrt(np.mean((y_pred.detach().numpy()-pred_test)**2)/np.mean(pred_test**2))*100, alpha])\n",
    "\n",
    "\n",
    "    \n",
    "#print(error[error.index(min(error[:, 0]))])\n",
    "\n",
    "\n",
    "\n"
   ]
  },
  {
   "cell_type": "code",
   "execution_count": 25,
   "metadata": {},
   "outputs": [],
   "source": [
    "#PREDICTIONS ON THE TEST SET with ensemble\n",
    "testdata = \"TestingData.txt\"\n",
    "testdata = pd.read_csv(testdata)\n",
    "testdata1 = testdata.to_numpy()\n",
    "indextest = np.where(testdata1 < 5000)"
   ]
  },
  {
   "cell_type": "code",
   "execution_count": 26,
   "metadata": {},
   "outputs": [],
   "source": [
    "def th_delete(tensor, indices):\n",
    "    mask = torch.ones(tensor.shape[0], dtype=torch.bool)\n",
    "    mask[indices] = False\n",
    "    return tensor[mask, :]"
   ]
  },
  {
   "cell_type": "code",
   "execution_count": 27,
   "metadata": {},
   "outputs": [
    {
     "name": "stderr",
     "output_type": "stream",
     "text": [
      "d:\\Mathematics\\2021-2022\\Deep Learning in Scientific Computing\\Projects\\Project1\\Project1\\Parte 1\\.venv\\lib\\site-packages\\torch\\_tensor.py:549: UserWarning: non-inplace resize is deprecated\n",
      "  warnings.warn(\"non-inplace resize is deprecated\")\n"
     ]
    },
    {
     "data": {
      "image/png": "[encoded data removed]",
      "text/plain": [
       "<Figure size 1080x720 with 1 Axes>"
      ]
     },
     "metadata": {
      "needs_background": "light"
     },
     "output_type": "display_data"
    }
   ],
   "source": [
    "x_linreg = testdata1[indextest[0]]\n",
    "y_linreg = LR.predict(x_linreg.reshape(-1,1))\n",
    "x_train = th_delete(testdata1.reshape(-1, 1), indextest[0]).flatten()\n",
    "#y_train = th_delete(Ts0.reshape(-1, 1), indextest[0])\n",
    "\n",
    "x_train = (x_train-means[0])/stds[0]\n",
    "\n",
    "x = x_train\n",
    "trainfake1 = pd.DataFrame({'t':x})\n",
    "x=torch.from_numpy(np.asarray(x)).reshape(-1,1)\n",
    "\n",
    "#X = (testdata.iloc[:,0]-meanx)/stdx #,newdata1.iloc[:,-1]\n",
    "y_pred = get_prediction(trainfake1,x).reshape(1,-1)\n",
    "\n",
    "y_pred = torch.cat([torch.from_numpy(y_linreg).reshape(-1,1),y_pred.reshape(-1,1)],0)\n",
    "\n",
    "y_pred=y_pred.reshape(-1,1)\n",
    "x = torch.from_numpy(testdata1)\n",
    "x = (x.resize(18886,1)).reshape(-1,1).detach().numpy()\n",
    "#print(x)\n",
    "#print(y_pred)\n",
    "#plt.plot(x*stdx+meanx, y_pred, c='r', label=\"y true\",linewidth=0.5)#,linewidth=.5)\n",
    "plt.figure(figsize=(15, 10))\n",
    "plt.plot(data3[:, 0], data3[:,2], c=\"g\", label=\"Real data\")\n",
    "plt.plot(x, y_pred.detach().numpy(), c='r', label=\"Predictions\",linewidth=0.5)#,linewidth=.5)\n",
    "plt.legend()\n",
    "plt.show()"
   ]
  },
  {
   "cell_type": "code",
   "execution_count": 28,
   "metadata": {},
   "outputs": [],
   "source": [
    "from sklearn.ensemble import RandomForestRegressor\n",
    "\n",
    "RF3=RandomForestRegressor()\n",
    "R3=RF3.fit(t3.reshape(-1,1), Ts03)\n",
    "pred_test=R3.predict(testdata1).reshape(-1,1)\n"
   ]
  },
  {
   "cell_type": "code",
   "execution_count": 30,
   "metadata": {},
   "outputs": [
    {
     "name": "stdout",
     "output_type": "stream",
     "text": [
      "1.0735667928891681\n"
     ]
    }
   ],
   "source": [
    "print(np.sqrt(np.mean((y_pred.detach().numpy()-pred_test)**2)/np.mean(pred_test**2))*100)"
   ]
  },
  {
   "cell_type": "code",
   "execution_count": 31,
   "metadata": {},
   "outputs": [],
   "source": [
    "res_np=np.concatenate([testdata1,y_pred.detach().numpy()],1)\n",
    "np.savetxt(\"ts0_task1.txt\", res_np, fmt='%.18f', delimiter=',', newline='\\n', header='', footer='', comments='# ', encoding=None)"
   ]
  },
  {
   "cell_type": "code",
   "execution_count": null,
   "metadata": {},
   "outputs": [],
   "source": []
  }
 ],
 "metadata": {
  "kernelspec": {
   "display_name": "Python 3.10.4 ('.venv': venv)",
   "language": "python",
   "name": "python3"
  },
  "language_info": {
   "codemirror_mode": {
    "name": "ipython",
    "version": 3
   },
   "file_extension": ".py",
   "mimetype": "text/x-python",
   "name": "python",
   "nbconvert_exporter": "python",
   "pygments_lexer": "ipython3",
   "version": "3.10.4"
  },
  "orig_nbformat": 4,
  "vscode": {
   "interpreter": {
    "hash": "2409abddaef112fab714cc3bcf4b2130846315767ee1ec66c539ee3bc891717c"
   }
  }
 },
 "nbformat": 4,
 "nbformat_minor": 2
}
